{
 "cells": [
  {
   "cell_type": "code",
   "execution_count": 1,
   "metadata": {
    "pycharm": {
     "name": "#%%\n"
    }
   },
   "outputs": [],
   "source": [
    "import numpy as np\n",
    "import pandas as pd\n",
    "from typing import Optional, List\n",
    "import matplotlib.pyplot as plt\n",
    "%matplotlib inline\n",
    "\n",
    "from sklearn.model_selection import train_test_split\n",
    "import sklearn.base\n",
    "\n",
    "seed = 24"
   ]
  },
  {
   "cell_type": "markdown",
   "metadata": {},
   "source": [
    "[\"The Ames Iowa Housing Data\"](https://www.openml.org/d/41211)"
   ]
  },
  {
   "cell_type": "code",
   "execution_count": 3,
   "metadata": {
    "pycharm": {
     "name": "#%%\n"
    }
   },
   "outputs": [
    {
     "data": {
      "text/html": [
       "<div>\n",
       "<style scoped>\n",
       "    .dataframe tbody tr th:only-of-type {\n",
       "        vertical-align: middle;\n",
       "    }\n",
       "\n",
       "    .dataframe tbody tr th {\n",
       "        vertical-align: top;\n",
       "    }\n",
       "\n",
       "    .dataframe thead th {\n",
       "        text-align: right;\n",
       "    }\n",
       "</style>\n",
       "<table border=\"1\" class=\"dataframe\">\n",
       "  <thead>\n",
       "    <tr style=\"text-align: right;\">\n",
       "      <th></th>\n",
       "      <th>MS_SubClass</th>\n",
       "      <th>MS_Zoning</th>\n",
       "      <th>Lot_Frontage</th>\n",
       "      <th>Lot_Area</th>\n",
       "      <th>Street</th>\n",
       "      <th>Alley</th>\n",
       "      <th>Lot_Shape</th>\n",
       "      <th>Land_Contour</th>\n",
       "      <th>Utilities</th>\n",
       "      <th>Lot_Config</th>\n",
       "      <th>...</th>\n",
       "      <th>Fence</th>\n",
       "      <th>Misc_Feature</th>\n",
       "      <th>Misc_Val</th>\n",
       "      <th>Mo_Sold</th>\n",
       "      <th>Year_Sold</th>\n",
       "      <th>Sale_Type</th>\n",
       "      <th>Sale_Condition</th>\n",
       "      <th>Sale_Price</th>\n",
       "      <th>Longitude</th>\n",
       "      <th>Latitude</th>\n",
       "    </tr>\n",
       "  </thead>\n",
       "  <tbody>\n",
       "    <tr>\n",
       "      <th>2590</th>\n",
       "      <td>One_Story_1945_and_Older</td>\n",
       "      <td>Residential_Low_Density</td>\n",
       "      <td>118</td>\n",
       "      <td>21299</td>\n",
       "      <td>Pave</td>\n",
       "      <td>No_Alley_Access</td>\n",
       "      <td>Regular</td>\n",
       "      <td>Lvl</td>\n",
       "      <td>AllPub</td>\n",
       "      <td>Inside</td>\n",
       "      <td>...</td>\n",
       "      <td>No_Fence</td>\n",
       "      <td>NaN</td>\n",
       "      <td>0</td>\n",
       "      <td>12</td>\n",
       "      <td>2006</td>\n",
       "      <td>COD</td>\n",
       "      <td>Abnorml</td>\n",
       "      <td>167000</td>\n",
       "      <td>-93.615470</td>\n",
       "      <td>42.040276</td>\n",
       "    </tr>\n",
       "    <tr>\n",
       "      <th>452</th>\n",
       "      <td>One_Story_PUD_1946_and_Newer</td>\n",
       "      <td>Residential_Low_Density</td>\n",
       "      <td>34</td>\n",
       "      <td>5381</td>\n",
       "      <td>Pave</td>\n",
       "      <td>No_Alley_Access</td>\n",
       "      <td>Slightly_Irregular</td>\n",
       "      <td>Lvl</td>\n",
       "      <td>AllPub</td>\n",
       "      <td>Inside</td>\n",
       "      <td>...</td>\n",
       "      <td>No_Fence</td>\n",
       "      <td>NaN</td>\n",
       "      <td>0</td>\n",
       "      <td>8</td>\n",
       "      <td>2009</td>\n",
       "      <td>WD</td>\n",
       "      <td>Normal</td>\n",
       "      <td>196000</td>\n",
       "      <td>-93.649743</td>\n",
       "      <td>42.059179</td>\n",
       "    </tr>\n",
       "    <tr>\n",
       "      <th>1904</th>\n",
       "      <td>One_Story_1946_and_Newer_All_Styles</td>\n",
       "      <td>Residential_Low_Density</td>\n",
       "      <td>50</td>\n",
       "      <td>5175</td>\n",
       "      <td>Pave</td>\n",
       "      <td>No_Alley_Access</td>\n",
       "      <td>Regular</td>\n",
       "      <td>Lvl</td>\n",
       "      <td>AllPub</td>\n",
       "      <td>Inside</td>\n",
       "      <td>...</td>\n",
       "      <td>No_Fence</td>\n",
       "      <td>NaN</td>\n",
       "      <td>0</td>\n",
       "      <td>7</td>\n",
       "      <td>2007</td>\n",
       "      <td>COD</td>\n",
       "      <td>Normal</td>\n",
       "      <td>112000</td>\n",
       "      <td>-93.628582</td>\n",
       "      <td>42.036223</td>\n",
       "    </tr>\n",
       "    <tr>\n",
       "      <th>2360</th>\n",
       "      <td>One_Story_1946_and_Newer_All_Styles</td>\n",
       "      <td>Residential_Low_Density</td>\n",
       "      <td>71</td>\n",
       "      <td>9353</td>\n",
       "      <td>Pave</td>\n",
       "      <td>No_Alley_Access</td>\n",
       "      <td>Regular</td>\n",
       "      <td>Lvl</td>\n",
       "      <td>AllPub</td>\n",
       "      <td>Inside</td>\n",
       "      <td>...</td>\n",
       "      <td>No_Fence</td>\n",
       "      <td>Shed</td>\n",
       "      <td>0</td>\n",
       "      <td>7</td>\n",
       "      <td>2006</td>\n",
       "      <td>Oth</td>\n",
       "      <td>Abnorml</td>\n",
       "      <td>116050</td>\n",
       "      <td>-93.625373</td>\n",
       "      <td>42.053459</td>\n",
       "    </tr>\n",
       "    <tr>\n",
       "      <th>840</th>\n",
       "      <td>One_Story_1946_and_Newer_All_Styles</td>\n",
       "      <td>Residential_Low_Density</td>\n",
       "      <td>112</td>\n",
       "      <td>10859</td>\n",
       "      <td>Pave</td>\n",
       "      <td>No_Alley_Access</td>\n",
       "      <td>Regular</td>\n",
       "      <td>Lvl</td>\n",
       "      <td>AllPub</td>\n",
       "      <td>Corner</td>\n",
       "      <td>...</td>\n",
       "      <td>No_Fence</td>\n",
       "      <td>NaN</td>\n",
       "      <td>0</td>\n",
       "      <td>6</td>\n",
       "      <td>2009</td>\n",
       "      <td>WD</td>\n",
       "      <td>Normal</td>\n",
       "      <td>145000</td>\n",
       "      <td>-93.691585</td>\n",
       "      <td>42.018996</td>\n",
       "    </tr>\n",
       "    <tr>\n",
       "      <th>2312</th>\n",
       "      <td>Two_Story_1946_and_Newer</td>\n",
       "      <td>Residential_Low_Density</td>\n",
       "      <td>0</td>\n",
       "      <td>13041</td>\n",
       "      <td>Pave</td>\n",
       "      <td>No_Alley_Access</td>\n",
       "      <td>Moderately_Irregular</td>\n",
       "      <td>Lvl</td>\n",
       "      <td>AllPub</td>\n",
       "      <td>Inside</td>\n",
       "      <td>...</td>\n",
       "      <td>No_Fence</td>\n",
       "      <td>NaN</td>\n",
       "      <td>0</td>\n",
       "      <td>2</td>\n",
       "      <td>2006</td>\n",
       "      <td>WD</td>\n",
       "      <td>Normal</td>\n",
       "      <td>170000</td>\n",
       "      <td>-93.637482</td>\n",
       "      <td>42.060425</td>\n",
       "    </tr>\n",
       "    <tr>\n",
       "      <th>1641</th>\n",
       "      <td>One_Story_1946_and_Newer_All_Styles</td>\n",
       "      <td>Residential_Low_Density</td>\n",
       "      <td>85</td>\n",
       "      <td>14082</td>\n",
       "      <td>Pave</td>\n",
       "      <td>No_Alley_Access</td>\n",
       "      <td>Slightly_Irregular</td>\n",
       "      <td>HLS</td>\n",
       "      <td>AllPub</td>\n",
       "      <td>Inside</td>\n",
       "      <td>...</td>\n",
       "      <td>No_Fence</td>\n",
       "      <td>NaN</td>\n",
       "      <td>0</td>\n",
       "      <td>1</td>\n",
       "      <td>2007</td>\n",
       "      <td>WD</td>\n",
       "      <td>Normal</td>\n",
       "      <td>441929</td>\n",
       "      <td>-93.628754</td>\n",
       "      <td>42.058998</td>\n",
       "    </tr>\n",
       "    <tr>\n",
       "      <th>964</th>\n",
       "      <td>Split_or_Multilevel</td>\n",
       "      <td>Residential_Low_Density</td>\n",
       "      <td>125</td>\n",
       "      <td>14419</td>\n",
       "      <td>Pave</td>\n",
       "      <td>No_Alley_Access</td>\n",
       "      <td>Slightly_Irregular</td>\n",
       "      <td>Lvl</td>\n",
       "      <td>AllPub</td>\n",
       "      <td>Corner</td>\n",
       "      <td>...</td>\n",
       "      <td>No_Fence</td>\n",
       "      <td>NaN</td>\n",
       "      <td>0</td>\n",
       "      <td>7</td>\n",
       "      <td>2009</td>\n",
       "      <td>WD</td>\n",
       "      <td>Normal</td>\n",
       "      <td>213500</td>\n",
       "      <td>-93.644600</td>\n",
       "      <td>41.998166</td>\n",
       "    </tr>\n",
       "    <tr>\n",
       "      <th>22</th>\n",
       "      <td>Two_Story_1946_and_Newer</td>\n",
       "      <td>Floating_Village_Residential</td>\n",
       "      <td>0</td>\n",
       "      <td>7500</td>\n",
       "      <td>Pave</td>\n",
       "      <td>No_Alley_Access</td>\n",
       "      <td>Regular</td>\n",
       "      <td>Lvl</td>\n",
       "      <td>AllPub</td>\n",
       "      <td>Inside</td>\n",
       "      <td>...</td>\n",
       "      <td>No_Fence</td>\n",
       "      <td>NaN</td>\n",
       "      <td>0</td>\n",
       "      <td>1</td>\n",
       "      <td>2010</td>\n",
       "      <td>WD</td>\n",
       "      <td>Normal</td>\n",
       "      <td>216000</td>\n",
       "      <td>-93.639366</td>\n",
       "      <td>42.049297</td>\n",
       "    </tr>\n",
       "    <tr>\n",
       "      <th>1717</th>\n",
       "      <td>One_Story_PUD_1946_and_Newer</td>\n",
       "      <td>Residential_Low_Density</td>\n",
       "      <td>34</td>\n",
       "      <td>3903</td>\n",
       "      <td>Pave</td>\n",
       "      <td>No_Alley_Access</td>\n",
       "      <td>Regular</td>\n",
       "      <td>Lvl</td>\n",
       "      <td>AllPub</td>\n",
       "      <td>Inside</td>\n",
       "      <td>...</td>\n",
       "      <td>No_Fence</td>\n",
       "      <td>NaN</td>\n",
       "      <td>0</td>\n",
       "      <td>5</td>\n",
       "      <td>2007</td>\n",
       "      <td>WD</td>\n",
       "      <td>Normal</td>\n",
       "      <td>200000</td>\n",
       "      <td>-93.649808</td>\n",
       "      <td>42.059176</td>\n",
       "    </tr>\n",
       "    <tr>\n",
       "      <th>1239</th>\n",
       "      <td>One_Story_1946_and_Newer_All_Styles</td>\n",
       "      <td>Residential_Low_Density</td>\n",
       "      <td>76</td>\n",
       "      <td>9120</td>\n",
       "      <td>Pave</td>\n",
       "      <td>No_Alley_Access</td>\n",
       "      <td>Regular</td>\n",
       "      <td>Lvl</td>\n",
       "      <td>AllPub</td>\n",
       "      <td>Inside</td>\n",
       "      <td>...</td>\n",
       "      <td>No_Fence</td>\n",
       "      <td>Shed</td>\n",
       "      <td>1400</td>\n",
       "      <td>11</td>\n",
       "      <td>2008</td>\n",
       "      <td>WD</td>\n",
       "      <td>Normal</td>\n",
       "      <td>163000</td>\n",
       "      <td>-93.617543</td>\n",
       "      <td>42.044853</td>\n",
       "    </tr>\n",
       "    <tr>\n",
       "      <th>734</th>\n",
       "      <td>One_and_Half_Story_Finished_All_Ages</td>\n",
       "      <td>Residential_Medium_Density</td>\n",
       "      <td>50</td>\n",
       "      <td>6000</td>\n",
       "      <td>Pave</td>\n",
       "      <td>No_Alley_Access</td>\n",
       "      <td>Regular</td>\n",
       "      <td>Lvl</td>\n",
       "      <td>AllPub</td>\n",
       "      <td>Inside</td>\n",
       "      <td>...</td>\n",
       "      <td>No_Fence</td>\n",
       "      <td>NaN</td>\n",
       "      <td>0</td>\n",
       "      <td>7</td>\n",
       "      <td>2009</td>\n",
       "      <td>WD</td>\n",
       "      <td>Normal</td>\n",
       "      <td>134900</td>\n",
       "      <td>-93.624567</td>\n",
       "      <td>42.033616</td>\n",
       "    </tr>\n",
       "    <tr>\n",
       "      <th>1472</th>\n",
       "      <td>One_Story_1946_and_Newer_All_Styles</td>\n",
       "      <td>Residential_Low_Density</td>\n",
       "      <td>70</td>\n",
       "      <td>9135</td>\n",
       "      <td>Pave</td>\n",
       "      <td>No_Alley_Access</td>\n",
       "      <td>Regular</td>\n",
       "      <td>Lvl</td>\n",
       "      <td>AllPub</td>\n",
       "      <td>Inside</td>\n",
       "      <td>...</td>\n",
       "      <td>No_Fence</td>\n",
       "      <td>NaN</td>\n",
       "      <td>0</td>\n",
       "      <td>12</td>\n",
       "      <td>2008</td>\n",
       "      <td>WD</td>\n",
       "      <td>Normal</td>\n",
       "      <td>214000</td>\n",
       "      <td>-93.687825</td>\n",
       "      <td>42.014549</td>\n",
       "    </tr>\n",
       "    <tr>\n",
       "      <th>1814</th>\n",
       "      <td>One_Story_PUD_1946_and_Newer</td>\n",
       "      <td>Residential_Low_Density</td>\n",
       "      <td>50</td>\n",
       "      <td>8012</td>\n",
       "      <td>Pave</td>\n",
       "      <td>No_Alley_Access</td>\n",
       "      <td>Regular</td>\n",
       "      <td>Lvl</td>\n",
       "      <td>AllPub</td>\n",
       "      <td>Inside</td>\n",
       "      <td>...</td>\n",
       "      <td>No_Fence</td>\n",
       "      <td>NaN</td>\n",
       "      <td>0</td>\n",
       "      <td>7</td>\n",
       "      <td>2007</td>\n",
       "      <td>WD</td>\n",
       "      <td>Normal</td>\n",
       "      <td>179200</td>\n",
       "      <td>-93.686428</td>\n",
       "      <td>42.036464</td>\n",
       "    </tr>\n",
       "    <tr>\n",
       "      <th>2118</th>\n",
       "      <td>One_Story_1946_and_Newer_All_Styles</td>\n",
       "      <td>Residential_Low_Density</td>\n",
       "      <td>155</td>\n",
       "      <td>20064</td>\n",
       "      <td>Pave</td>\n",
       "      <td>No_Alley_Access</td>\n",
       "      <td>Slightly_Irregular</td>\n",
       "      <td>Low</td>\n",
       "      <td>AllPub</td>\n",
       "      <td>Inside</td>\n",
       "      <td>...</td>\n",
       "      <td>No_Fence</td>\n",
       "      <td>NaN</td>\n",
       "      <td>0</td>\n",
       "      <td>5</td>\n",
       "      <td>2007</td>\n",
       "      <td>WD</td>\n",
       "      <td>Normal</td>\n",
       "      <td>279000</td>\n",
       "      <td>-93.683612</td>\n",
       "      <td>42.024305</td>\n",
       "    </tr>\n",
       "    <tr>\n",
       "      <th>1697</th>\n",
       "      <td>Two_Story_1946_and_Newer</td>\n",
       "      <td>Residential_Low_Density</td>\n",
       "      <td>105</td>\n",
       "      <td>13693</td>\n",
       "      <td>Pave</td>\n",
       "      <td>No_Alley_Access</td>\n",
       "      <td>Regular</td>\n",
       "      <td>Lvl</td>\n",
       "      <td>AllPub</td>\n",
       "      <td>Inside</td>\n",
       "      <td>...</td>\n",
       "      <td>No_Fence</td>\n",
       "      <td>NaN</td>\n",
       "      <td>0</td>\n",
       "      <td>3</td>\n",
       "      <td>2007</td>\n",
       "      <td>WD</td>\n",
       "      <td>Normal</td>\n",
       "      <td>380000</td>\n",
       "      <td>-93.657444</td>\n",
       "      <td>42.062434</td>\n",
       "    </tr>\n",
       "    <tr>\n",
       "      <th>2074</th>\n",
       "      <td>One_Story_1946_and_Newer_All_Styles</td>\n",
       "      <td>Residential_Low_Density</td>\n",
       "      <td>0</td>\n",
       "      <td>17541</td>\n",
       "      <td>Pave</td>\n",
       "      <td>No_Alley_Access</td>\n",
       "      <td>Slightly_Irregular</td>\n",
       "      <td>Lvl</td>\n",
       "      <td>AllPub</td>\n",
       "      <td>Corner</td>\n",
       "      <td>...</td>\n",
       "      <td>No_Fence</td>\n",
       "      <td>NaN</td>\n",
       "      <td>0</td>\n",
       "      <td>7</td>\n",
       "      <td>2007</td>\n",
       "      <td>WD</td>\n",
       "      <td>Normal</td>\n",
       "      <td>216000</td>\n",
       "      <td>-93.669606</td>\n",
       "      <td>42.026185</td>\n",
       "    </tr>\n",
       "    <tr>\n",
       "      <th>2102</th>\n",
       "      <td>One_Story_1946_and_Newer_All_Styles</td>\n",
       "      <td>Residential_Low_Density</td>\n",
       "      <td>66</td>\n",
       "      <td>10235</td>\n",
       "      <td>Pave</td>\n",
       "      <td>No_Alley_Access</td>\n",
       "      <td>Slightly_Irregular</td>\n",
       "      <td>Lvl</td>\n",
       "      <td>AllPub</td>\n",
       "      <td>Inside</td>\n",
       "      <td>...</td>\n",
       "      <td>No_Fence</td>\n",
       "      <td>NaN</td>\n",
       "      <td>0</td>\n",
       "      <td>9</td>\n",
       "      <td>2007</td>\n",
       "      <td>New</td>\n",
       "      <td>Partial</td>\n",
       "      <td>246500</td>\n",
       "      <td>-93.691015</td>\n",
       "      <td>42.025281</td>\n",
       "    </tr>\n",
       "    <tr>\n",
       "      <th>2684</th>\n",
       "      <td>One_and_Half_Story_Unfinished_All_Ages</td>\n",
       "      <td>Residential_Medium_Density</td>\n",
       "      <td>58</td>\n",
       "      <td>6380</td>\n",
       "      <td>Pave</td>\n",
       "      <td>No_Alley_Access</td>\n",
       "      <td>Regular</td>\n",
       "      <td>Lvl</td>\n",
       "      <td>AllPub</td>\n",
       "      <td>Inside</td>\n",
       "      <td>...</td>\n",
       "      <td>No_Fence</td>\n",
       "      <td>NaN</td>\n",
       "      <td>0</td>\n",
       "      <td>8</td>\n",
       "      <td>2006</td>\n",
       "      <td>WD</td>\n",
       "      <td>Normal</td>\n",
       "      <td>113000</td>\n",
       "      <td>-93.622386</td>\n",
       "      <td>42.030389</td>\n",
       "    </tr>\n",
       "    <tr>\n",
       "      <th>1337</th>\n",
       "      <td>One_and_Half_Story_Finished_All_Ages</td>\n",
       "      <td>Residential_Medium_Density</td>\n",
       "      <td>50</td>\n",
       "      <td>6000</td>\n",
       "      <td>Pave</td>\n",
       "      <td>No_Alley_Access</td>\n",
       "      <td>Regular</td>\n",
       "      <td>Lvl</td>\n",
       "      <td>AllPub</td>\n",
       "      <td>Inside</td>\n",
       "      <td>...</td>\n",
       "      <td>Good_Privacy</td>\n",
       "      <td>NaN</td>\n",
       "      <td>0</td>\n",
       "      <td>5</td>\n",
       "      <td>2008</td>\n",
       "      <td>WD</td>\n",
       "      <td>Normal</td>\n",
       "      <td>157000</td>\n",
       "      <td>-93.621532</td>\n",
       "      <td>42.033473</td>\n",
       "    </tr>\n",
       "  </tbody>\n",
       "</table>\n",
       "<p>20 rows × 81 columns</p>\n",
       "</div>"
      ],
      "text/plain": [
       "                                 MS_SubClass                     MS_Zoning  \\\n",
       "2590                One_Story_1945_and_Older       Residential_Low_Density   \n",
       "452             One_Story_PUD_1946_and_Newer       Residential_Low_Density   \n",
       "1904     One_Story_1946_and_Newer_All_Styles       Residential_Low_Density   \n",
       "2360     One_Story_1946_and_Newer_All_Styles       Residential_Low_Density   \n",
       "840      One_Story_1946_and_Newer_All_Styles       Residential_Low_Density   \n",
       "2312                Two_Story_1946_and_Newer       Residential_Low_Density   \n",
       "1641     One_Story_1946_and_Newer_All_Styles       Residential_Low_Density   \n",
       "964                      Split_or_Multilevel       Residential_Low_Density   \n",
       "22                  Two_Story_1946_and_Newer  Floating_Village_Residential   \n",
       "1717            One_Story_PUD_1946_and_Newer       Residential_Low_Density   \n",
       "1239     One_Story_1946_and_Newer_All_Styles       Residential_Low_Density   \n",
       "734     One_and_Half_Story_Finished_All_Ages    Residential_Medium_Density   \n",
       "1472     One_Story_1946_and_Newer_All_Styles       Residential_Low_Density   \n",
       "1814            One_Story_PUD_1946_and_Newer       Residential_Low_Density   \n",
       "2118     One_Story_1946_and_Newer_All_Styles       Residential_Low_Density   \n",
       "1697                Two_Story_1946_and_Newer       Residential_Low_Density   \n",
       "2074     One_Story_1946_and_Newer_All_Styles       Residential_Low_Density   \n",
       "2102     One_Story_1946_and_Newer_All_Styles       Residential_Low_Density   \n",
       "2684  One_and_Half_Story_Unfinished_All_Ages    Residential_Medium_Density   \n",
       "1337    One_and_Half_Story_Finished_All_Ages    Residential_Medium_Density   \n",
       "\n",
       "      Lot_Frontage  Lot_Area Street            Alley             Lot_Shape  \\\n",
       "2590           118     21299   Pave  No_Alley_Access               Regular   \n",
       "452             34      5381   Pave  No_Alley_Access    Slightly_Irregular   \n",
       "1904            50      5175   Pave  No_Alley_Access               Regular   \n",
       "2360            71      9353   Pave  No_Alley_Access               Regular   \n",
       "840            112     10859   Pave  No_Alley_Access               Regular   \n",
       "2312             0     13041   Pave  No_Alley_Access  Moderately_Irregular   \n",
       "1641            85     14082   Pave  No_Alley_Access    Slightly_Irregular   \n",
       "964            125     14419   Pave  No_Alley_Access    Slightly_Irregular   \n",
       "22               0      7500   Pave  No_Alley_Access               Regular   \n",
       "1717            34      3903   Pave  No_Alley_Access               Regular   \n",
       "1239            76      9120   Pave  No_Alley_Access               Regular   \n",
       "734             50      6000   Pave  No_Alley_Access               Regular   \n",
       "1472            70      9135   Pave  No_Alley_Access               Regular   \n",
       "1814            50      8012   Pave  No_Alley_Access               Regular   \n",
       "2118           155     20064   Pave  No_Alley_Access    Slightly_Irregular   \n",
       "1697           105     13693   Pave  No_Alley_Access               Regular   \n",
       "2074             0     17541   Pave  No_Alley_Access    Slightly_Irregular   \n",
       "2102            66     10235   Pave  No_Alley_Access    Slightly_Irregular   \n",
       "2684            58      6380   Pave  No_Alley_Access               Regular   \n",
       "1337            50      6000   Pave  No_Alley_Access               Regular   \n",
       "\n",
       "     Land_Contour Utilities Lot_Config  ...         Fence Misc_Feature  \\\n",
       "2590          Lvl    AllPub     Inside  ...      No_Fence          NaN   \n",
       "452           Lvl    AllPub     Inside  ...      No_Fence          NaN   \n",
       "1904          Lvl    AllPub     Inside  ...      No_Fence          NaN   \n",
       "2360          Lvl    AllPub     Inside  ...      No_Fence         Shed   \n",
       "840           Lvl    AllPub     Corner  ...      No_Fence          NaN   \n",
       "2312          Lvl    AllPub     Inside  ...      No_Fence          NaN   \n",
       "1641          HLS    AllPub     Inside  ...      No_Fence          NaN   \n",
       "964           Lvl    AllPub     Corner  ...      No_Fence          NaN   \n",
       "22            Lvl    AllPub     Inside  ...      No_Fence          NaN   \n",
       "1717          Lvl    AllPub     Inside  ...      No_Fence          NaN   \n",
       "1239          Lvl    AllPub     Inside  ...      No_Fence         Shed   \n",
       "734           Lvl    AllPub     Inside  ...      No_Fence          NaN   \n",
       "1472          Lvl    AllPub     Inside  ...      No_Fence          NaN   \n",
       "1814          Lvl    AllPub     Inside  ...      No_Fence          NaN   \n",
       "2118          Low    AllPub     Inside  ...      No_Fence          NaN   \n",
       "1697          Lvl    AllPub     Inside  ...      No_Fence          NaN   \n",
       "2074          Lvl    AllPub     Corner  ...      No_Fence          NaN   \n",
       "2102          Lvl    AllPub     Inside  ...      No_Fence          NaN   \n",
       "2684          Lvl    AllPub     Inside  ...      No_Fence          NaN   \n",
       "1337          Lvl    AllPub     Inside  ...  Good_Privacy          NaN   \n",
       "\n",
       "     Misc_Val Mo_Sold Year_Sold Sale_Type Sale_Condition Sale_Price  \\\n",
       "2590        0      12      2006       COD        Abnorml     167000   \n",
       "452         0       8      2009       WD          Normal     196000   \n",
       "1904        0       7      2007       COD         Normal     112000   \n",
       "2360        0       7      2006       Oth        Abnorml     116050   \n",
       "840         0       6      2009       WD          Normal     145000   \n",
       "2312        0       2      2006       WD          Normal     170000   \n",
       "1641        0       1      2007       WD          Normal     441929   \n",
       "964         0       7      2009       WD          Normal     213500   \n",
       "22          0       1      2010       WD          Normal     216000   \n",
       "1717        0       5      2007       WD          Normal     200000   \n",
       "1239     1400      11      2008       WD          Normal     163000   \n",
       "734         0       7      2009       WD          Normal     134900   \n",
       "1472        0      12      2008       WD          Normal     214000   \n",
       "1814        0       7      2007       WD          Normal     179200   \n",
       "2118        0       5      2007       WD          Normal     279000   \n",
       "1697        0       3      2007       WD          Normal     380000   \n",
       "2074        0       7      2007       WD          Normal     216000   \n",
       "2102        0       9      2007       New        Partial     246500   \n",
       "2684        0       8      2006       WD          Normal     113000   \n",
       "1337        0       5      2008       WD          Normal     157000   \n",
       "\n",
       "      Longitude   Latitude  \n",
       "2590 -93.615470  42.040276  \n",
       "452  -93.649743  42.059179  \n",
       "1904 -93.628582  42.036223  \n",
       "2360 -93.625373  42.053459  \n",
       "840  -93.691585  42.018996  \n",
       "2312 -93.637482  42.060425  \n",
       "1641 -93.628754  42.058998  \n",
       "964  -93.644600  41.998166  \n",
       "22   -93.639366  42.049297  \n",
       "1717 -93.649808  42.059176  \n",
       "1239 -93.617543  42.044853  \n",
       "734  -93.624567  42.033616  \n",
       "1472 -93.687825  42.014549  \n",
       "1814 -93.686428  42.036464  \n",
       "2118 -93.683612  42.024305  \n",
       "1697 -93.657444  42.062434  \n",
       "2074 -93.669606  42.026185  \n",
       "2102 -93.691015  42.025281  \n",
       "2684 -93.622386  42.030389  \n",
       "1337 -93.621532  42.033473  \n",
       "\n",
       "[20 rows x 81 columns]"
      ]
     },
     "execution_count": 3,
     "metadata": {},
     "output_type": "execute_result"
    }
   ],
   "source": [
    "data = pd.read_csv('./data.csv')\n",
    "\n",
    "data.sample(20)"
   ]
  },
  {
   "cell_type": "code",
   "execution_count": 4,
   "metadata": {
    "pycharm": {
     "name": "#%%\n"
    }
   },
   "outputs": [
    {
     "name": "stdout",
     "output_type": "stream",
     "text": [
      "<class 'pandas.core.frame.DataFrame'>\n",
      "RangeIndex: 2930 entries, 0 to 2929\n",
      "Data columns (total 81 columns):\n",
      " #   Column              Non-Null Count  Dtype  \n",
      "---  ------              --------------  -----  \n",
      " 0   MS_SubClass         2930 non-null   object \n",
      " 1   MS_Zoning           2930 non-null   object \n",
      " 2   Lot_Frontage        2930 non-null   int64  \n",
      " 3   Lot_Area            2930 non-null   int64  \n",
      " 4   Street              2930 non-null   object \n",
      " 5   Alley               2930 non-null   object \n",
      " 6   Lot_Shape           2930 non-null   object \n",
      " 7   Land_Contour        2930 non-null   object \n",
      " 8   Utilities           2930 non-null   object \n",
      " 9   Lot_Config          2930 non-null   object \n",
      " 10  Land_Slope          2930 non-null   object \n",
      " 11  Neighborhood        2930 non-null   object \n",
      " 12  Condition_1         2930 non-null   object \n",
      " 13  Condition_2         2930 non-null   object \n",
      " 14  Bldg_Type           2930 non-null   object \n",
      " 15  House_Style         2930 non-null   object \n",
      " 16  Overall_Qual        2930 non-null   object \n",
      " 17  Overall_Cond        2930 non-null   object \n",
      " 18  Year_Built          2930 non-null   int64  \n",
      " 19  Year_Remod_Add      2930 non-null   int64  \n",
      " 20  Roof_Style          2930 non-null   object \n",
      " 21  Roof_Matl           2930 non-null   object \n",
      " 22  Exterior_1st        2930 non-null   object \n",
      " 23  Exterior_2nd        2930 non-null   object \n",
      " 24  Mas_Vnr_Type        1155 non-null   object \n",
      " 25  Mas_Vnr_Area        2930 non-null   int64  \n",
      " 26  Exter_Qual          2930 non-null   object \n",
      " 27  Exter_Cond          2930 non-null   object \n",
      " 28  Foundation          2930 non-null   object \n",
      " 29  Bsmt_Qual           2930 non-null   object \n",
      " 30  Bsmt_Cond           2930 non-null   object \n",
      " 31  Bsmt_Exposure       2930 non-null   object \n",
      " 32  BsmtFin_Type_1      2930 non-null   object \n",
      " 33  BsmtFin_SF_1        2930 non-null   int64  \n",
      " 34  BsmtFin_Type_2      2930 non-null   object \n",
      " 35  BsmtFin_SF_2        2930 non-null   int64  \n",
      " 36  Bsmt_Unf_SF         2930 non-null   int64  \n",
      " 37  Total_Bsmt_SF       2930 non-null   int64  \n",
      " 38  Heating             2930 non-null   object \n",
      " 39  Heating_QC          2930 non-null   object \n",
      " 40  Central_Air         2930 non-null   object \n",
      " 41  Electrical          2930 non-null   object \n",
      " 42  First_Flr_SF        2930 non-null   int64  \n",
      " 43  Second_Flr_SF       2930 non-null   int64  \n",
      " 44  Low_Qual_Fin_SF     2930 non-null   int64  \n",
      " 45  Gr_Liv_Area         2930 non-null   int64  \n",
      " 46  Bsmt_Full_Bath      2930 non-null   int64  \n",
      " 47  Bsmt_Half_Bath      2930 non-null   int64  \n",
      " 48  Full_Bath           2930 non-null   int64  \n",
      " 49  Half_Bath           2930 non-null   int64  \n",
      " 50  Bedroom_AbvGr       2930 non-null   int64  \n",
      " 51  Kitchen_AbvGr       2930 non-null   int64  \n",
      " 52  Kitchen_Qual        2930 non-null   object \n",
      " 53  TotRms_AbvGrd       2930 non-null   int64  \n",
      " 54  Functional          2930 non-null   object \n",
      " 55  Fireplaces          2930 non-null   int64  \n",
      " 56  Fireplace_Qu        2930 non-null   object \n",
      " 57  Garage_Type         2930 non-null   object \n",
      " 58  Garage_Finish       2930 non-null   object \n",
      " 59  Garage_Cars         2930 non-null   int64  \n",
      " 60  Garage_Area         2930 non-null   int64  \n",
      " 61  Garage_Qual         2930 non-null   object \n",
      " 62  Garage_Cond         2930 non-null   object \n",
      " 63  Paved_Drive         2930 non-null   object \n",
      " 64  Wood_Deck_SF        2930 non-null   int64  \n",
      " 65  Open_Porch_SF       2930 non-null   int64  \n",
      " 66  Enclosed_Porch      2930 non-null   int64  \n",
      " 67  Three_season_porch  2930 non-null   int64  \n",
      " 68  Screen_Porch        2930 non-null   int64  \n",
      " 69  Pool_Area           2930 non-null   int64  \n",
      " 70  Pool_QC             2930 non-null   object \n",
      " 71  Fence               2930 non-null   object \n",
      " 72  Misc_Feature        106 non-null    object \n",
      " 73  Misc_Val            2930 non-null   int64  \n",
      " 74  Mo_Sold             2930 non-null   int64  \n",
      " 75  Year_Sold           2930 non-null   int64  \n",
      " 76  Sale_Type           2930 non-null   object \n",
      " 77  Sale_Condition      2930 non-null   object \n",
      " 78  Sale_Price          2930 non-null   int64  \n",
      " 79  Longitude           2930 non-null   float64\n",
      " 80  Latitude            2930 non-null   float64\n",
      "dtypes: float64(2), int64(33), object(46)\n",
      "memory usage: 1.8+ MB\n"
     ]
    }
   ],
   "source": [
    "data.info()"
   ]
  },
  {
   "cell_type": "markdown",
   "metadata": {},
   "source": [
    "Разобьём данные на обучающую и тестовую выборки."
   ]
  },
  {
   "cell_type": "code",
   "execution_count": 5,
   "metadata": {
    "pycharm": {
     "name": "#%%\n"
    },
    "scrolled": true
   },
   "outputs": [
    {
     "name": "stdout",
     "output_type": "stream",
     "text": [
      "Train : (2344, 80) (2344,)\n",
      "Test : (586, 80) (586,)\n"
     ]
    }
   ],
   "source": [
    "target_column = \"Sale_Price\"\n",
    "np.random.seed(seed)\n",
    "\n",
    "test_size = 0.2\n",
    "data_train, data_test, Y_train, Y_test = train_test_split(\n",
    "    data[data.columns.drop(\"Sale_Price\")],\n",
    "    np.array(data[\"Sale_Price\"]),\n",
    "    test_size=test_size,\n",
    "    random_state=seed)\n",
    "\n",
    "print(f\"Train : {data_train.shape} {Y_train.shape}\")\n",
    "print(f\"Test : {data_test.shape} {Y_test.shape}\")"
   ]
  },
  {
   "cell_type": "markdown",
   "metadata": {},
   "source": [
    "предобработка данных"
   ]
  },
  {
   "cell_type": "code",
   "execution_count": 9,
   "metadata": {},
   "outputs": [
    {
     "name": "stdout",
     "output_type": "stream",
     "text": [
      "Continuous : 34, Categorical : 46\n"
     ]
    }
   ],
   "source": [
    "continuous_columns = [key for key in data.keys() if data[key].dtype in (\"int64\", \"float64\")]\n",
    "categorical_columns = [key for key in data.keys() if data[key].dtype == \"object\"]\n",
    "\n",
    "continuous_columns.remove(target_column)\n",
    "\n",
    "print(f\"Continuous : {len(continuous_columns)}, Categorical : {len(categorical_columns)}\")"
   ]
  },
  {
   "cell_type": "markdown",
   "metadata": {},
   "source": [
    "feature engineering"
   ]
  },
  {
   "cell_type": "code",
   "execution_count": 10,
   "metadata": {
    "pycharm": {
     "name": "#%%\n"
    }
   },
   "outputs": [],
   "source": [
    "from sklearn.base import TransformerMixin\n",
    "from sklearn.preprocessing import StandardScaler\n",
    "class SmartDataPreprocessor(TransformerMixin):\n",
    "    def __init__(self, needed_columns: Optional[List[str]]=None):\n",
    "        \"\"\"\n",
    "        :param needed_columns: if not None select these columns from the dataframe\n",
    "        \"\"\"\n",
    "        self.scaler = StandardScaler()\n",
    "        self.columns = needed_columns\n",
    "\n",
    "    def fit(self, data, *args):\n",
    "        \"\"\"\n",
    "        Prepares the class for future transformations\n",
    "        :param data: pd.DataFrame with all available columns\n",
    "        :return: self\n",
    "        \"\"\"\n",
    "        self.scaler.fit(data[self.columns] if self.columns else data)\n",
    "        return self\n",
    "\n",
    "    def transform(self, data: pd.DataFrame) -> np.array:\n",
    "        \"\"\"\n",
    "        Transforms features so that they can be fed into the regressors\n",
    "        :param data: pd.DataFrame with all available columns\n",
    "        :return: np.array with preprocessed features\n",
    "        \"\"\"\n",
    "        res = data\n",
    "        res.loc[res['Lot_Frontage'] == 0] = res['Lot_Frontage'].median()\n",
    "        res = self.scaler.transform(data[self.columns] if self.columns else data)\n",
    "        return res"
   ]
  },
  {
   "cell_type": "code",
   "execution_count": 11,
   "metadata": {
    "pycharm": {
     "name": "#%%\n"
    }
   },
   "outputs": [
    {
     "data": {
      "text/plain": [
       "array([[ 0.72781797,  0.10999732,  0.65825008, ...,  0.91897402,\n",
       "         1.59953221, -2.10399441],\n",
       "       [ 0.28278084,  0.3792301 ,  1.09413674, ...,  1.67878887,\n",
       "        -0.03026421,  1.46544646],\n",
       "       [ 0.63881055, -0.1507842 , -0.4147017 , ..., -1.36047053,\n",
       "         1.4104223 ,  0.21280896],\n",
       "       ...,\n",
       "       [ 0.52013398,  0.4287303 , -0.71646938, ..., -0.60065568,\n",
       "         0.65006975, -0.71551757],\n",
       "       [ 0.22344256,  0.09261189, -0.4147017 , ...,  0.91897402,\n",
       "        -0.82561363, -0.89443458],\n",
       "       [ 0.22344256, -0.36327285, -0.14646375, ...,  0.91897402,\n",
       "         0.69254025,  0.78026581]])"
      ]
     },
     "execution_count": 11,
     "metadata": {},
     "output_type": "execute_result"
    }
   ],
   "source": [
    "preprocessor = SmartDataPreprocessor(needed_columns=continuous_columns)\n",
    "\n",
    "X_train = preprocessor.fit_transform(data_train)\n",
    "X_test = preprocessor.transform(data_test)\n",
    "X_train"
   ]
  },
  {
   "cell_type": "markdown",
   "metadata": {},
   "source": [
    "### Линейная регрессия"
   ]
  },
  {
   "cell_type": "markdown",
   "metadata": {},
   "source": [
    "Давайте получим базовое решение (бейзлайн), чтобы потом с ним можно было сравниваться."
   ]
  },
  {
   "cell_type": "code",
   "execution_count": 12,
   "metadata": {},
   "outputs": [],
   "source": [
    "X_train = pd.DataFrame(X_train, index=data_train.index, columns=continuous_columns)"
   ]
  },
  {
   "cell_type": "code",
   "execution_count": 13,
   "metadata": {
    "pycharm": {
     "name": "#%%\n"
    }
   },
   "outputs": [
    {
     "data": {
      "text/html": [
       "<style>#sk-container-id-1 {color: black;}#sk-container-id-1 pre{padding: 0;}#sk-container-id-1 div.sk-toggleable {background-color: white;}#sk-container-id-1 label.sk-toggleable__label {cursor: pointer;display: block;width: 100%;margin-bottom: 0;padding: 0.3em;box-sizing: border-box;text-align: center;}#sk-container-id-1 label.sk-toggleable__label-arrow:before {content: \"▸\";float: left;margin-right: 0.25em;color: #696969;}#sk-container-id-1 label.sk-toggleable__label-arrow:hover:before {color: black;}#sk-container-id-1 div.sk-estimator:hover label.sk-toggleable__label-arrow:before {color: black;}#sk-container-id-1 div.sk-toggleable__content {max-height: 0;max-width: 0;overflow: hidden;text-align: left;background-color: #f0f8ff;}#sk-container-id-1 div.sk-toggleable__content pre {margin: 0.2em;color: black;border-radius: 0.25em;background-color: #f0f8ff;}#sk-container-id-1 input.sk-toggleable__control:checked~div.sk-toggleable__content {max-height: 200px;max-width: 100%;overflow: auto;}#sk-container-id-1 input.sk-toggleable__control:checked~label.sk-toggleable__label-arrow:before {content: \"▾\";}#sk-container-id-1 div.sk-estimator input.sk-toggleable__control:checked~label.sk-toggleable__label {background-color: #d4ebff;}#sk-container-id-1 div.sk-label input.sk-toggleable__control:checked~label.sk-toggleable__label {background-color: #d4ebff;}#sk-container-id-1 input.sk-hidden--visually {border: 0;clip: rect(1px 1px 1px 1px);clip: rect(1px, 1px, 1px, 1px);height: 1px;margin: -1px;overflow: hidden;padding: 0;position: absolute;width: 1px;}#sk-container-id-1 div.sk-estimator {font-family: monospace;background-color: #f0f8ff;border: 1px dotted black;border-radius: 0.25em;box-sizing: border-box;margin-bottom: 0.5em;}#sk-container-id-1 div.sk-estimator:hover {background-color: #d4ebff;}#sk-container-id-1 div.sk-parallel-item::after {content: \"\";width: 100%;border-bottom: 1px solid gray;flex-grow: 1;}#sk-container-id-1 div.sk-label:hover label.sk-toggleable__label {background-color: #d4ebff;}#sk-container-id-1 div.sk-serial::before {content: \"\";position: absolute;border-left: 1px solid gray;box-sizing: border-box;top: 0;bottom: 0;left: 50%;z-index: 0;}#sk-container-id-1 div.sk-serial {display: flex;flex-direction: column;align-items: center;background-color: white;padding-right: 0.2em;padding-left: 0.2em;position: relative;}#sk-container-id-1 div.sk-item {position: relative;z-index: 1;}#sk-container-id-1 div.sk-parallel {display: flex;align-items: stretch;justify-content: center;background-color: white;position: relative;}#sk-container-id-1 div.sk-item::before, #sk-container-id-1 div.sk-parallel-item::before {content: \"\";position: absolute;border-left: 1px solid gray;box-sizing: border-box;top: 0;bottom: 0;left: 50%;z-index: -1;}#sk-container-id-1 div.sk-parallel-item {display: flex;flex-direction: column;z-index: 1;position: relative;background-color: white;}#sk-container-id-1 div.sk-parallel-item:first-child::after {align-self: flex-end;width: 50%;}#sk-container-id-1 div.sk-parallel-item:last-child::after {align-self: flex-start;width: 50%;}#sk-container-id-1 div.sk-parallel-item:only-child::after {width: 0;}#sk-container-id-1 div.sk-dashed-wrapped {border: 1px dashed gray;margin: 0 0.4em 0.5em 0.4em;box-sizing: border-box;padding-bottom: 0.4em;background-color: white;}#sk-container-id-1 div.sk-label label {font-family: monospace;font-weight: bold;display: inline-block;line-height: 1.2em;}#sk-container-id-1 div.sk-label-container {text-align: center;}#sk-container-id-1 div.sk-container {/* jupyter's `normalize.less` sets `[hidden] { display: none; }` but bootstrap.min.css set `[hidden] { display: none !important; }` so we also need the `!important` here to be able to override the default hidden behavior on the sphinx rendered scikit-learn.org. See: https://github.com/scikit-learn/scikit-learn/issues/21755 */display: inline-block !important;position: relative;}#sk-container-id-1 div.sk-text-repr-fallback {display: none;}</style><div id=\"sk-container-id-1\" class=\"sk-top-container\"><div class=\"sk-text-repr-fallback\"><pre>LinearRegression()</pre><b>In a Jupyter environment, please rerun this cell to show the HTML representation or trust the notebook. <br />On GitHub, the HTML representation is unable to render, please try loading this page with nbviewer.org.</b></div><div class=\"sk-container\" hidden><div class=\"sk-item\"><div class=\"sk-estimator sk-toggleable\"><input class=\"sk-toggleable__control sk-hidden--visually\" id=\"sk-estimator-id-1\" type=\"checkbox\" checked><label for=\"sk-estimator-id-1\" class=\"sk-toggleable__label sk-toggleable__label-arrow\">LinearRegression</label><div class=\"sk-toggleable__content\"><pre>LinearRegression()</pre></div></div></div></div></div>"
      ],
      "text/plain": [
       "LinearRegression()"
      ]
     },
     "execution_count": 13,
     "metadata": {},
     "output_type": "execute_result"
    }
   ],
   "source": [
    "from sklearn.linear_model import LinearRegression, Lasso, Ridge\n",
    "\n",
    "lr = LinearRegression()\n",
    "lr.fit(X_train, Y_train)"
   ]
  },
  {
   "cell_type": "code",
   "execution_count": 14,
   "metadata": {},
   "outputs": [
    {
     "data": {
      "application/json": {
       "cell": {
        "!": "OSMagics",
        "HTML": "Other",
        "SVG": "Other",
        "bash": "Other",
        "capture": "ExecutionMagics",
        "cmd": "Other",
        "code_wrap": "ExecutionMagics",
        "debug": "ExecutionMagics",
        "file": "Other",
        "html": "DisplayMagics",
        "javascript": "DisplayMagics",
        "js": "DisplayMagics",
        "latex": "DisplayMagics",
        "markdown": "DisplayMagics",
        "perl": "Other",
        "prun": "ExecutionMagics",
        "pypy": "Other",
        "python": "Other",
        "python2": "Other",
        "python3": "Other",
        "ruby": "Other",
        "script": "ScriptMagics",
        "sh": "Other",
        "svg": "DisplayMagics",
        "sx": "OSMagics",
        "system": "OSMagics",
        "time": "ExecutionMagics",
        "timeit": "ExecutionMagics",
        "writefile": "OSMagics"
       },
       "line": {
        "alias": "OSMagics",
        "alias_magic": "BasicMagics",
        "autoawait": "AsyncMagics",
        "autocall": "AutoMagics",
        "automagic": "AutoMagics",
        "autosave": "KernelMagics",
        "bookmark": "OSMagics",
        "cd": "OSMagics",
        "clear": "KernelMagics",
        "cls": "KernelMagics",
        "code_wrap": "ExecutionMagics",
        "colors": "BasicMagics",
        "conda": "PackagingMagics",
        "config": "ConfigMagics",
        "connect_info": "KernelMagics",
        "copy": "Other",
        "ddir": "Other",
        "debug": "ExecutionMagics",
        "dhist": "OSMagics",
        "dirs": "OSMagics",
        "doctest_mode": "BasicMagics",
        "echo": "Other",
        "ed": "Other",
        "edit": "KernelMagics",
        "env": "OSMagics",
        "gui": "BasicMagics",
        "hist": "Other",
        "history": "HistoryMagics",
        "killbgscripts": "ScriptMagics",
        "ldir": "Other",
        "less": "KernelMagics",
        "load": "CodeMagics",
        "load_ext": "ExtensionMagics",
        "loadpy": "CodeMagics",
        "logoff": "LoggingMagics",
        "logon": "LoggingMagics",
        "logstart": "LoggingMagics",
        "logstate": "LoggingMagics",
        "logstop": "LoggingMagics",
        "ls": "Other",
        "lsmagic": "BasicMagics",
        "macro": "ExecutionMagics",
        "magic": "BasicMagics",
        "matplotlib": "PylabMagics",
        "mkdir": "Other",
        "more": "KernelMagics",
        "notebook": "BasicMagics",
        "page": "BasicMagics",
        "pastebin": "CodeMagics",
        "pdb": "ExecutionMagics",
        "pdef": "NamespaceMagics",
        "pdoc": "NamespaceMagics",
        "pfile": "NamespaceMagics",
        "pinfo": "NamespaceMagics",
        "pinfo2": "NamespaceMagics",
        "pip": "PackagingMagics",
        "popd": "OSMagics",
        "pprint": "BasicMagics",
        "precision": "BasicMagics",
        "prun": "ExecutionMagics",
        "psearch": "NamespaceMagics",
        "psource": "NamespaceMagics",
        "pushd": "OSMagics",
        "pwd": "OSMagics",
        "pycat": "OSMagics",
        "pylab": "PylabMagics",
        "qtconsole": "KernelMagics",
        "quickref": "BasicMagics",
        "recall": "HistoryMagics",
        "rehashx": "OSMagics",
        "reload_ext": "ExtensionMagics",
        "ren": "Other",
        "rep": "Other",
        "rerun": "HistoryMagics",
        "reset": "NamespaceMagics",
        "reset_selective": "NamespaceMagics",
        "rmdir": "Other",
        "run": "ExecutionMagics",
        "save": "CodeMagics",
        "sc": "OSMagics",
        "set_env": "OSMagics",
        "store": "StoreMagics",
        "sx": "OSMagics",
        "system": "OSMagics",
        "tb": "ExecutionMagics",
        "time": "ExecutionMagics",
        "timeit": "ExecutionMagics",
        "unalias": "OSMagics",
        "unload_ext": "ExtensionMagics",
        "who": "NamespaceMagics",
        "who_ls": "NamespaceMagics",
        "whos": "NamespaceMagics",
        "xdel": "NamespaceMagics",
        "xmode": "BasicMagics"
       }
      },
      "text/plain": [
       "Available line magics:\n",
       "%alias  %alias_magic  %autoawait  %autocall  %automagic  %autosave  %bookmark  %cd  %clear  %cls  %code_wrap  %colors  %conda  %config  %connect_info  %copy  %ddir  %debug  %dhist  %dirs  %doctest_mode  %echo  %ed  %edit  %env  %gui  %hist  %history  %killbgscripts  %ldir  %less  %load  %load_ext  %loadpy  %logoff  %logon  %logstart  %logstate  %logstop  %ls  %lsmagic  %macro  %magic  %matplotlib  %mkdir  %more  %notebook  %page  %pastebin  %pdb  %pdef  %pdoc  %pfile  %pinfo  %pinfo2  %pip  %popd  %pprint  %precision  %prun  %psearch  %psource  %pushd  %pwd  %pycat  %pylab  %qtconsole  %quickref  %recall  %rehashx  %reload_ext  %ren  %rep  %rerun  %reset  %reset_selective  %rmdir  %run  %save  %sc  %set_env  %store  %sx  %system  %tb  %time  %timeit  %unalias  %unload_ext  %who  %who_ls  %whos  %xdel  %xmode\n",
       "\n",
       "Available cell magics:\n",
       "%%!  %%HTML  %%SVG  %%bash  %%capture  %%cmd  %%code_wrap  %%debug  %%file  %%html  %%javascript  %%js  %%latex  %%markdown  %%perl  %%prun  %%pypy  %%python  %%python2  %%python3  %%ruby  %%script  %%sh  %%svg  %%sx  %%system  %%time  %%timeit  %%writefile\n",
       "\n",
       "Automagic is ON, % prefix IS NOT needed for line magics."
      ]
     },
     "execution_count": 14,
     "metadata": {},
     "output_type": "execute_result"
    }
   ],
   "source": [
    "%lsmagic"
   ]
  },
  {
   "cell_type": "code",
   "execution_count": 15,
   "metadata": {},
   "outputs": [],
   "source": [
    "from sklearn import metrics\n",
    "\n"
   ]
  },
  {
   "cell_type": "code",
   "execution_count": 17,
   "metadata": {},
   "outputs": [
    {
     "name": "stderr",
     "output_type": "stream",
     "text": [
      "C:\\ProgramData\\anaconda3\\Lib\\site-packages\\sklearn\\base.py:464: UserWarning: X does not have valid feature names, but LinearRegression was fitted with feature names\n",
      "  warnings.warn(\n"
     ]
    },
    {
     "data": {
      "text/plain": [
       "28467.779514782822"
      ]
     },
     "execution_count": 17,
     "metadata": {},
     "output_type": "execute_result"
    }
   ],
   "source": [
    "from sklearn.metrics import mean_squared_error, balanced_accuracy_score, mean_absolute_error\n",
    "mean_absolute_error(Y_test, lr.predict(X_test))"
   ]
  },
  {
   "cell_type": "code",
   "execution_count": 18,
   "metadata": {
    "pycharm": {
     "name": "#%%\n"
    }
   },
   "outputs": [
    {
     "data": {
      "text/html": [
       "<style>#sk-container-id-2 {color: black;}#sk-container-id-2 pre{padding: 0;}#sk-container-id-2 div.sk-toggleable {background-color: white;}#sk-container-id-2 label.sk-toggleable__label {cursor: pointer;display: block;width: 100%;margin-bottom: 0;padding: 0.3em;box-sizing: border-box;text-align: center;}#sk-container-id-2 label.sk-toggleable__label-arrow:before {content: \"▸\";float: left;margin-right: 0.25em;color: #696969;}#sk-container-id-2 label.sk-toggleable__label-arrow:hover:before {color: black;}#sk-container-id-2 div.sk-estimator:hover label.sk-toggleable__label-arrow:before {color: black;}#sk-container-id-2 div.sk-toggleable__content {max-height: 0;max-width: 0;overflow: hidden;text-align: left;background-color: #f0f8ff;}#sk-container-id-2 div.sk-toggleable__content pre {margin: 0.2em;color: black;border-radius: 0.25em;background-color: #f0f8ff;}#sk-container-id-2 input.sk-toggleable__control:checked~div.sk-toggleable__content {max-height: 200px;max-width: 100%;overflow: auto;}#sk-container-id-2 input.sk-toggleable__control:checked~label.sk-toggleable__label-arrow:before {content: \"▾\";}#sk-container-id-2 div.sk-estimator input.sk-toggleable__control:checked~label.sk-toggleable__label {background-color: #d4ebff;}#sk-container-id-2 div.sk-label input.sk-toggleable__control:checked~label.sk-toggleable__label {background-color: #d4ebff;}#sk-container-id-2 input.sk-hidden--visually {border: 0;clip: rect(1px 1px 1px 1px);clip: rect(1px, 1px, 1px, 1px);height: 1px;margin: -1px;overflow: hidden;padding: 0;position: absolute;width: 1px;}#sk-container-id-2 div.sk-estimator {font-family: monospace;background-color: #f0f8ff;border: 1px dotted black;border-radius: 0.25em;box-sizing: border-box;margin-bottom: 0.5em;}#sk-container-id-2 div.sk-estimator:hover {background-color: #d4ebff;}#sk-container-id-2 div.sk-parallel-item::after {content: \"\";width: 100%;border-bottom: 1px solid gray;flex-grow: 1;}#sk-container-id-2 div.sk-label:hover label.sk-toggleable__label {background-color: #d4ebff;}#sk-container-id-2 div.sk-serial::before {content: \"\";position: absolute;border-left: 1px solid gray;box-sizing: border-box;top: 0;bottom: 0;left: 50%;z-index: 0;}#sk-container-id-2 div.sk-serial {display: flex;flex-direction: column;align-items: center;background-color: white;padding-right: 0.2em;padding-left: 0.2em;position: relative;}#sk-container-id-2 div.sk-item {position: relative;z-index: 1;}#sk-container-id-2 div.sk-parallel {display: flex;align-items: stretch;justify-content: center;background-color: white;position: relative;}#sk-container-id-2 div.sk-item::before, #sk-container-id-2 div.sk-parallel-item::before {content: \"\";position: absolute;border-left: 1px solid gray;box-sizing: border-box;top: 0;bottom: 0;left: 50%;z-index: -1;}#sk-container-id-2 div.sk-parallel-item {display: flex;flex-direction: column;z-index: 1;position: relative;background-color: white;}#sk-container-id-2 div.sk-parallel-item:first-child::after {align-self: flex-end;width: 50%;}#sk-container-id-2 div.sk-parallel-item:last-child::after {align-self: flex-start;width: 50%;}#sk-container-id-2 div.sk-parallel-item:only-child::after {width: 0;}#sk-container-id-2 div.sk-dashed-wrapped {border: 1px dashed gray;margin: 0 0.4em 0.5em 0.4em;box-sizing: border-box;padding-bottom: 0.4em;background-color: white;}#sk-container-id-2 div.sk-label label {font-family: monospace;font-weight: bold;display: inline-block;line-height: 1.2em;}#sk-container-id-2 div.sk-label-container {text-align: center;}#sk-container-id-2 div.sk-container {/* jupyter's `normalize.less` sets `[hidden] { display: none; }` but bootstrap.min.css set `[hidden] { display: none !important; }` so we also need the `!important` here to be able to override the default hidden behavior on the sphinx rendered scikit-learn.org. See: https://github.com/scikit-learn/scikit-learn/issues/21755 */display: inline-block !important;position: relative;}#sk-container-id-2 div.sk-text-repr-fallback {display: none;}</style><div id=\"sk-container-id-2\" class=\"sk-top-container\"><div class=\"sk-text-repr-fallback\"><pre>Ridge()</pre><b>In a Jupyter environment, please rerun this cell to show the HTML representation or trust the notebook. <br />On GitHub, the HTML representation is unable to render, please try loading this page with nbviewer.org.</b></div><div class=\"sk-container\" hidden><div class=\"sk-item\"><div class=\"sk-estimator sk-toggleable\"><input class=\"sk-toggleable__control sk-hidden--visually\" id=\"sk-estimator-id-2\" type=\"checkbox\" checked><label for=\"sk-estimator-id-2\" class=\"sk-toggleable__label sk-toggleable__label-arrow\">Ridge</label><div class=\"sk-toggleable__content\"><pre>Ridge()</pre></div></div></div></div></div>"
      ],
      "text/plain": [
       "Ridge()"
      ]
     },
     "execution_count": 18,
     "metadata": {},
     "output_type": "execute_result"
    }
   ],
   "source": [
    "l2r = Ridge()\n",
    "l2r.fit(X_train, Y_train)"
   ]
  },
  {
   "cell_type": "code",
   "execution_count": 19,
   "metadata": {},
   "outputs": [
    {
     "name": "stderr",
     "output_type": "stream",
     "text": [
      "C:\\ProgramData\\anaconda3\\Lib\\site-packages\\sklearn\\base.py:464: UserWarning: X does not have valid feature names, but Ridge was fitted with feature names\n",
      "  warnings.warn(\n"
     ]
    },
    {
     "data": {
      "text/plain": [
       "28462.153914344795"
      ]
     },
     "execution_count": 19,
     "metadata": {},
     "output_type": "execute_result"
    }
   ],
   "source": [
    "mean_absolute_error(Y_test, l2r.predict(X_test))"
   ]
  },
  {
   "cell_type": "markdown",
   "metadata": {},
   "source": [
    "В целом, регуляризация редко портит модель, но важно правильно подобрать коэффициент регуляризации."
   ]
  },
  {
   "cell_type": "markdown",
   "metadata": {},
   "source": [
    "### метрики"
   ]
  },
  {
   "cell_type": "code",
   "execution_count": 20,
   "metadata": {
    "pycharm": {
     "name": "#%%\n"
    }
   },
   "outputs": [],
   "source": [
    "def root_mean_squared_logarithmic_error(y_true, y_pred, a_min=1.):\n",
    "    y_pred[y_pred < a_min] = a_min\n",
    "    return np.sqrt(((np.log(y_true) - np.log(y_pred)) ** 2).mean())"
   ]
  },
  {
   "cell_type": "code",
   "execution_count": 21,
   "metadata": {},
   "outputs": [
    {
     "name": "stderr",
     "output_type": "stream",
     "text": [
      "C:\\ProgramData\\anaconda3\\Lib\\site-packages\\sklearn\\base.py:464: UserWarning: X does not have valid feature names, but Ridge was fitted with feature names\n",
      "  warnings.warn(\n"
     ]
    },
    {
     "data": {
      "text/plain": [
       "0.22566708642492903"
      ]
     },
     "execution_count": 21,
     "metadata": {},
     "output_type": "execute_result"
    }
   ],
   "source": [
    "root_mean_squared_logarithmic_error(Y_test, l2r.predict(X_test))"
   ]
  },
  {
   "cell_type": "markdown",
   "metadata": {},
   "source": [
    "### Логарифмирование таргета."
   ]
  },
  {
   "cell_type": "markdown",
   "metadata": {},
   "source": [
    "Вообще идея с логарифмированием таргета довольно хороша для этой задачи. Давайте посмотрим на распределение обычных и логарифмированных таргетов."
   ]
  },
  {
   "cell_type": "code",
   "execution_count": 115,
   "metadata": {
    "pycharm": {
     "name": "#%%\n"
    }
   },
   "outputs": [],
   "source": [
    "def plot_target_distribution(Y_train, Y_test, ax, n_bins=20):\n",
    "    ax.hist(Y_train, bins=n_bins, label=\"train\", color=\"red\", alpha=0.3, density=True)\n",
    "    ax.hist(Y_test, bins=n_bins, label=\"test\", color=\"blue\", alpha=0.3, density=True)\n",
    "\n",
    "    ax.legend()\n",
    "    ax.set_xlabel(\"Value\")\n",
    "    ax.set_ylabel(\"Probability\")\n",
    "\n",
    "\n",
    "def plot_both_distributions(Y_train, Y_test):\n",
    "    fig, (ax0, ax1) = plt.subplots(ncols=2, nrows=1, figsize=(15, 6))\n",
    "\n",
    "    plot_target_distribution(Y_train, Y_test, ax=ax0)\n",
    "    ax0.set_title(\"Standard\")\n",
    "\n",
    "    plot_target_distribution(np.log(Y_train), np.log(Y_test), ax=ax1)\n",
    "    ax1.set_title(\"Logarithmic\")"
   ]
  },
  {
   "cell_type": "code",
   "execution_count": 116,
   "metadata": {
    "pycharm": {
     "name": "#%%\n"
    }
   },
   "outputs": [
    {
     "data": {
      "image/png": "[encoded data removed]",
      "text/plain": [
       "<Figure size 1500x600 with 2 Axes>"
      ]
     },
     "metadata": {},
     "output_type": "display_data"
    }
   ],
   "source": [
    "plot_both_distributions(Y_train, Y_test)"
   ]
  },
  {
   "cell_type": "code",
   "execution_count": 22,
   "metadata": {
    "pycharm": {
     "name": "#%%\n"
    }
   },
   "outputs": [],
   "source": [
    "class ExponentialLinearRegression(Ridge):\n",
    "    def init(self, alpha=1.0,fit_intercept=True, copy_X=True, max_iter=None, tol=0.0001, solver='auto', positive=False, random_state=None):\n",
    "        super(ExponentialLinearRegression, self).__init__(alpha=alpha,fit_intercept=fit_intercept, copy_X=copy_X, max_iter=max_iter, tol=tol, solver=solver, positive=positive, random_state=random_state)\n",
    "        \n",
    "    def fit(self, X, Y):\n",
    "        super(ExponentialLinearRegression, self).fit(X, np.log(Y))\n",
    "        return self\n",
    "    \n",
    "    def predict(self, X):\n",
    "        return np.exp(super(ExponentialLinearRegression, self).predict(X))\n",
    "\n",
    "    def get_params(self, deep=True):\n",
    "        return super(ExponentialLinearRegression, self).get_params(deep=deep)\n",
    "\n",
    "    def set_params(self, **params):\n",
    "        super(ExponentialLinearRegression, self).set_params(**params)"
   ]
  },
  {
   "cell_type": "code",
   "execution_count": 23,
   "metadata": {},
   "outputs": [
    {
     "name": "stdout",
     "output_type": "stream",
     "text": [
      "MAE  : Classic : 28462.153914344795  Exponential : 31923.355394442806\n",
      "MSLE : Classic : 0.22566708642492903 Exponential : 0.24517851670539678\n"
     ]
    },
    {
     "name": "stderr",
     "output_type": "stream",
     "text": [
      "C:\\ProgramData\\anaconda3\\Lib\\site-packages\\sklearn\\base.py:464: UserWarning: X does not have valid feature names, but Ridge was fitted with feature names\n",
      "  warnings.warn(\n",
      "C:\\ProgramData\\anaconda3\\Lib\\site-packages\\sklearn\\base.py:464: UserWarning: X does not have valid feature names, but ExponentialLinearRegression was fitted with feature names\n",
      "  warnings.warn(\n"
     ]
    }
   ],
   "source": [
    "classic_regressor = Ridge()\n",
    "exponential_regressor = ExponentialLinearRegression()\n",
    "\n",
    "classic_regressor.fit(X_train, Y_train)\n",
    "exponential_regressor.fit(X_train, Y_train)\n",
    "\n",
    "classic_prediction = classic_regressor.predict(X_test)\n",
    "exponential_prediction = exponential_regressor.predict(X_test)\n",
    "\n",
    "print(f\"MAE  : Classic : {mean_absolute_error(Y_test, classic_prediction)}  Exponential : {mean_absolute_error(Y_test, exponential_prediction)}\")\n",
    "print(f\"MSLE : Classic : {root_mean_squared_logarithmic_error(Y_test, classic_prediction)} Exponential : {root_mean_squared_logarithmic_error(Y_test, exponential_prediction)}\")"
   ]
  },
  {
   "cell_type": "code",
   "execution_count": 24,
   "metadata": {},
   "outputs": [],
   "source": [
    "X_all = np.concatenate([X_train, X_test])\n",
    "Y_all = np.concatenate([Y_train, Y_test])\n"
   ]
  },
  {
   "cell_type": "code",
   "execution_count": 25,
   "metadata": {
    "scrolled": true
   },
   "outputs": [
    {
     "name": "stdout",
     "output_type": "stream",
     "text": [
      "27888\n"
     ]
    }
   ],
   "source": [
    "from sklearn.model_selection import cross_val_score\n",
    "from sklearn.model_selection import KFold\n",
    "from sklearn.metrics import mean_absolute_error as mae\n",
    "\n",
    "clf = LinearRegression()\n",
    "scores = cross_val_score(clf, X_all, Y_all, cv=KFold(n_splits=5, shuﬄe=True, random_state=42), scoring=sklearn.metrics.make_scorer(mae))\n",
    "print(int(scores.mean()))\n",
    "\n",
    "# MAE = mae(Y_all, clf.predict(X_all))\n",
    "# print(MAE)"
   ]
  },
  {
   "cell_type": "code",
   "execution_count": 26,
   "metadata": {},
   "outputs": [
    {
     "data": {
      "text/html": [
       "<style>#sk-container-id-3 {color: black;}#sk-container-id-3 pre{padding: 0;}#sk-container-id-3 div.sk-toggleable {background-color: white;}#sk-container-id-3 label.sk-toggleable__label {cursor: pointer;display: block;width: 100%;margin-bottom: 0;padding: 0.3em;box-sizing: border-box;text-align: center;}#sk-container-id-3 label.sk-toggleable__label-arrow:before {content: \"▸\";float: left;margin-right: 0.25em;color: #696969;}#sk-container-id-3 label.sk-toggleable__label-arrow:hover:before {color: black;}#sk-container-id-3 div.sk-estimator:hover label.sk-toggleable__label-arrow:before {color: black;}#sk-container-id-3 div.sk-toggleable__content {max-height: 0;max-width: 0;overflow: hidden;text-align: left;background-color: #f0f8ff;}#sk-container-id-3 div.sk-toggleable__content pre {margin: 0.2em;color: black;border-radius: 0.25em;background-color: #f0f8ff;}#sk-container-id-3 input.sk-toggleable__control:checked~div.sk-toggleable__content {max-height: 200px;max-width: 100%;overflow: auto;}#sk-container-id-3 input.sk-toggleable__control:checked~label.sk-toggleable__label-arrow:before {content: \"▾\";}#sk-container-id-3 div.sk-estimator input.sk-toggleable__control:checked~label.sk-toggleable__label {background-color: #d4ebff;}#sk-container-id-3 div.sk-label input.sk-toggleable__control:checked~label.sk-toggleable__label {background-color: #d4ebff;}#sk-container-id-3 input.sk-hidden--visually {border: 0;clip: rect(1px 1px 1px 1px);clip: rect(1px, 1px, 1px, 1px);height: 1px;margin: -1px;overflow: hidden;padding: 0;position: absolute;width: 1px;}#sk-container-id-3 div.sk-estimator {font-family: monospace;background-color: #f0f8ff;border: 1px dotted black;border-radius: 0.25em;box-sizing: border-box;margin-bottom: 0.5em;}#sk-container-id-3 div.sk-estimator:hover {background-color: #d4ebff;}#sk-container-id-3 div.sk-parallel-item::after {content: \"\";width: 100%;border-bottom: 1px solid gray;flex-grow: 1;}#sk-container-id-3 div.sk-label:hover label.sk-toggleable__label {background-color: #d4ebff;}#sk-container-id-3 div.sk-serial::before {content: \"\";position: absolute;border-left: 1px solid gray;box-sizing: border-box;top: 0;bottom: 0;left: 50%;z-index: 0;}#sk-container-id-3 div.sk-serial {display: flex;flex-direction: column;align-items: center;background-color: white;padding-right: 0.2em;padding-left: 0.2em;position: relative;}#sk-container-id-3 div.sk-item {position: relative;z-index: 1;}#sk-container-id-3 div.sk-parallel {display: flex;align-items: stretch;justify-content: center;background-color: white;position: relative;}#sk-container-id-3 div.sk-item::before, #sk-container-id-3 div.sk-parallel-item::before {content: \"\";position: absolute;border-left: 1px solid gray;box-sizing: border-box;top: 0;bottom: 0;left: 50%;z-index: -1;}#sk-container-id-3 div.sk-parallel-item {display: flex;flex-direction: column;z-index: 1;position: relative;background-color: white;}#sk-container-id-3 div.sk-parallel-item:first-child::after {align-self: flex-end;width: 50%;}#sk-container-id-3 div.sk-parallel-item:last-child::after {align-self: flex-start;width: 50%;}#sk-container-id-3 div.sk-parallel-item:only-child::after {width: 0;}#sk-container-id-3 div.sk-dashed-wrapped {border: 1px dashed gray;margin: 0 0.4em 0.5em 0.4em;box-sizing: border-box;padding-bottom: 0.4em;background-color: white;}#sk-container-id-3 div.sk-label label {font-family: monospace;font-weight: bold;display: inline-block;line-height: 1.2em;}#sk-container-id-3 div.sk-label-container {text-align: center;}#sk-container-id-3 div.sk-container {/* jupyter's `normalize.less` sets `[hidden] { display: none; }` but bootstrap.min.css set `[hidden] { display: none !important; }` so we also need the `!important` here to be able to override the default hidden behavior on the sphinx rendered scikit-learn.org. See: https://github.com/scikit-learn/scikit-learn/issues/21755 */display: inline-block !important;position: relative;}#sk-container-id-3 div.sk-text-repr-fallback {display: none;}</style><div id=\"sk-container-id-3\" class=\"sk-top-container\"><div class=\"sk-text-repr-fallback\"><pre>LinearRegression()</pre><b>In a Jupyter environment, please rerun this cell to show the HTML representation or trust the notebook. <br />On GitHub, the HTML representation is unable to render, please try loading this page with nbviewer.org.</b></div><div class=\"sk-container\" hidden><div class=\"sk-item\"><div class=\"sk-estimator sk-toggleable\"><input class=\"sk-toggleable__control sk-hidden--visually\" id=\"sk-estimator-id-3\" type=\"checkbox\" checked><label for=\"sk-estimator-id-3\" class=\"sk-toggleable__label sk-toggleable__label-arrow\">LinearRegression</label><div class=\"sk-toggleable__content\"><pre>LinearRegression()</pre></div></div></div></div></div>"
      ],
      "text/plain": [
       "LinearRegression()"
      ]
     },
     "execution_count": 26,
     "metadata": {},
     "output_type": "execute_result"
    }
   ],
   "source": [
    "classic_regressor = LinearRegression()\n",
    "\n",
    "classic_regressor.fit(X_train, Y_train)"
   ]
  },
  {
   "cell_type": "markdown",
   "metadata": {},
   "source": [
    "### Линейная модель своими руками\n",
    "\n"
   ]
  },
  {
   "cell_type": "markdown",
   "metadata": {},
   "source": [
    "Линейная модель делает предсказание по такой формуле:\n",
    "$$\n",
    "\\widehat{y}(x) = x^T \\widehat{\\theta}\n",
    "$$\n",
    "Здесь $\\widehat{\\theta}$ &mdash; обучаемые параметры, $x$ &mdash; вектор фичей данного примера.\n",
    "Оценка $\\widehat{\\theta}$ находятся из задачи минимизации лосс функции:\n",
    "\n",
    "$$\n",
    "F(\\theta) = \\frac{1}{n} \\sum_{i=1}^{n} \\left(Y_i - x_i^T \\theta\\right)^2 + \\lambda \\theta^T\\theta \\longrightarrow \\min_{\\theta \\in \\mathbb{R}^d}\n",
    "$$"
   ]
  },
  {
   "cell_type": "code",
   "execution_count": 179,
   "metadata": {
    "pycharm": {
     "name": "#%%\n"
    }
   },
   "outputs": [],
   "source": [
    "from sklearn.base import RegressorMixin\n",
    "import numpy as np\n",
    "class SGDLinearRegressor(RegressorMixin):\n",
    "    def __init__(\n",
    "        self,\n",
    "        lr=0.01,\n",
    "        regularization=1.,\n",
    "        delta_converged=1e-2,\n",
    "        max_steps=1000,\n",
    "        batch_size=64,\n",
    "    ):\n",
    "        self.lr = lr\n",
    "        self.regularization = regularization\n",
    "        self.max_steps = max_steps\n",
    "        self.delta_converged = delta_converged\n",
    "        self.batch_size = batch_size\n",
    "\n",
    "        self.w = None\n",
    "        self.b = None\n",
    "\n",
    "    def fit(self, X, Y):\n",
    "        self.w = np.random.random(X.shape[1])\n",
    "        self.b = 1\n",
    "        for i in range(self.max_steps):\n",
    "            inds = np.random.choice(np.arange(X.shape[0]), size=self.batch_size, replace=False)\n",
    "            X_batch = X[inds]\n",
    "            Y_batch = Y[inds]\n",
    "            y_pred = X_batch @ self.w + self.b\n",
    "            err = y_pred - Y_batch\n",
    "            grad_w = X_batch.T @ err / self.batch_size\n",
    "            grad_bias = np.mean(err)\n",
    "            self.w = self.w - self.lr * (grad_w + self.regularization * self.w)\n",
    "            self.b = self.b - self.lr * grad_bias\n",
    "        return self\n",
    "        \n",
    "    def predict(self, X):\n",
    "        return X @ self.w + self.b"
   ]
  },
  {
   "cell_type": "code",
   "execution_count": 180,
   "metadata": {},
   "outputs": [
    {
     "data": {
      "text/plain": [
       "((2344, 34), (2344,), (586, 34), (586,))"
      ]
     },
     "execution_count": 180,
     "metadata": {},
     "output_type": "execute_result"
    }
   ],
   "source": [
    "X_train.shape, Y_train.shape, X_test.shape, Y_test.shape"
   ]
  },
  {
   "cell_type": "code",
   "execution_count": 181,
   "metadata": {
    "pycharm": {
     "name": "#%%\n"
    }
   },
   "outputs": [
    {
     "name": "stdout",
     "output_type": "stream",
     "text": [
      "(586,) (586,)\n",
      "MAE :  25539.459547668255\n",
      "Mean log :  0.1896648829082611\n"
     ]
    }
   ],
   "source": [
    "# Check yourself\n",
    "\n",
    "model = SGDLinearRegressor()\n",
    "model.fit(X_train, Y_train)\n",
    "\n",
    "prediction = model.predict(X_test)\n",
    "print(Y_test.shape, prediction.shape)\n",
    "print(\"MAE : \", mean_absolute_error(Y_test, prediction))\n",
    "print(\"Mean log : \", root_mean_squared_logarithmic_error(Y_test, prediction))"
   ]
  },
  {
   "cell_type": "markdown",
   "metadata": {},
   "source": [
    "### Категориальные признаки"
   ]
  },
  {
   "cell_type": "markdown",
   "metadata": {},
   "source": [
    "В самом начале ноутбука мы отбросили категориальные фичи, хотя они могут помочь нам сделать модель лучше. \n"
   ]
  },
  {
   "cell_type": "code",
   "execution_count": 211,
   "metadata": {},
   "outputs": [],
   "source": [
    "from sklearn.preprocessing import OneHotEncoder"
   ]
  },
  {
   "cell_type": "code",
   "execution_count": 214,
   "metadata": {
    "pycharm": {
     "name": "#%%\n"
    }
   },
   "outputs": [],
   "source": [
    "interesting_columns = [\"Overall_Qual\", \"Garage_Qual\", \"Sale_Condition\", \"MS_Zoning\"]\n",
    "\n",
    "class OneHotPreprocessor(BaseDataPreprocessor):\n",
    "    def __init__(self, **kwargs):\n",
    "        super(OneHotPreprocessor, self).__init__(**kwargs)\n",
    "        ## <YOUR CODE HERE>\n",
    "\n",
    "    def fit(self, data):\n",
    "        self.enc = OneHotEncoder(drop='first',sparse=False, handle_unknown=\"ignore\")\n",
    "        self.enc = self.enc.fit(data)\n",
    "        return self\n",
    "\n",
    "    def transform(self, data):\n",
    "        return self.enc.transform(data)\n",
    "    \n",
    "    def cats(self):\n",
    "        return self.enc.categories_"
   ]
  },
  {
   "cell_type": "markdown",
   "metadata": {},
   "source": [
    "Обучим модель с добавленными категориальными фичами."
   ]
  },
  {
   "cell_type": "code",
   "execution_count": 215,
   "metadata": {},
   "outputs": [
    {
     "name": "stderr",
     "output_type": "stream",
     "text": [
      "C:\\ProgramData\\anaconda3\\Lib\\site-packages\\sklearn\\preprocessing\\_encoders.py:972: FutureWarning: `sparse` was renamed to `sparse_output` in version 1.2 and will be removed in 1.4. `sparse_output` is ignored unless you leave `sparse` to its default value.\n",
      "  warnings.warn(\n"
     ]
    },
    {
     "data": {
      "text/plain": [
       "array([[1., 0., 0., ..., 0., 1., 0.],\n",
       "       [0., 0., 0., ..., 0., 1., 0.],\n",
       "       [0., 0., 0., ..., 0., 1., 0.],\n",
       "       ...,\n",
       "       [1., 0., 0., ..., 0., 0., 1.],\n",
       "       [1., 0., 0., ..., 0., 1., 0.],\n",
       "       [1., 0., 0., ..., 0., 1., 0.]])"
      ]
     },
     "execution_count": 215,
     "metadata": {},
     "output_type": "execute_result"
    }
   ],
   "source": [
    "enc = OneHotPreprocessor()\n",
    "train_cat = enc.fit_transform(data_train[interesting_columns])\n",
    "train_cat"
   ]
  },
  {
   "cell_type": "code",
   "execution_count": 218,
   "metadata": {},
   "outputs": [],
   "source": [
    "X_train_c = X_train.copy()\n",
    "X_train_c = np.hstack([X_train_c, train_cat])"
   ]
  },
  {
   "cell_type": "code",
   "execution_count": 219,
   "metadata": {},
   "outputs": [
    {
     "name": "stderr",
     "output_type": "stream",
     "text": [
      "C:\\ProgramData\\anaconda3\\Lib\\site-packages\\sklearn\\preprocessing\\_encoders.py:972: FutureWarning: `sparse` was renamed to `sparse_output` in version 1.2 and will be removed in 1.4. `sparse_output` is ignored unless you leave `sparse` to its default value.\n",
      "  warnings.warn(\n"
     ]
    },
    {
     "data": {
      "text/plain": [
       "array([[1., 0., 0., ..., 0., 1., 0.],\n",
       "       [0., 0., 0., ..., 0., 1., 0.],\n",
       "       [0., 0., 0., ..., 0., 1., 0.],\n",
       "       ...,\n",
       "       [1., 0., 0., ..., 0., 1., 0.],\n",
       "       [0., 0., 0., ..., 0., 1., 0.],\n",
       "       [0., 0., 0., ..., 0., 1., 0.]])"
      ]
     },
     "execution_count": 219,
     "metadata": {},
     "output_type": "execute_result"
    }
   ],
   "source": [
    "test_cat = enc.fit_transform(data_test[interesting_columns])\n",
    "test_cat"
   ]
  },
  {
   "cell_type": "code",
   "execution_count": 220,
   "metadata": {},
   "outputs": [],
   "source": [
    "X_test_c = X_test.copy()\n",
    "X_test_c = np.hstack([X_test_c, test_cat])"
   ]
  },
  {
   "cell_type": "markdown",
   "metadata": {},
   "source": [
    "### Pipeline"
   ]
  },
  {
   "cell_type": "code",
   "execution_count": 263,
   "metadata": {},
   "outputs": [],
   "source": [
    "from sklearn.pipeline import Pipeline"
   ]
  },
  {
   "cell_type": "code",
   "execution_count": 371,
   "metadata": {},
   "outputs": [],
   "source": [
    "from sklearn.base import TransformerMixin\n",
    "from sklearn.preprocessing import StandardScaler\n",
    "\n",
    "class BaseDataPreprocessor(TransformerMixin):\n",
    "    def __init__(self, needed_columns: Optional[List[str]]=None):\n",
    "        \"\"\"\n",
    "        :param needed_columns: if not None select these columns from the dataframe\n",
    "        \"\"\"\n",
    "        self.scaler = StandardScaler()\n",
    "        self.columns = needed_columns\n",
    "\n",
    "    def fit(self, data, *args):\n",
    "        \"\"\"\n",
    "        Prepares the class for future transformations\n",
    "        :param data: pd.DataFrame with all available columns\n",
    "        :return: self\n",
    "        \"\"\"\n",
    "        self.scaler.fit(data[self.columns] if self.columns else data)\n",
    "        return self\n",
    "\n",
    "    def transform(self, data: pd.DataFrame) -> np.array:\n",
    "        \"\"\"\n",
    "        Transforms features so that they can be fed into the regressors\n",
    "        :param data: pd.DataFrame with all available columns\n",
    "        :return: np.array with preprocessed features\n",
    "        \"\"\"\n",
    "        # Your code here\n",
    "        scaled_data = self.scaler.transform(data[self.columns])\n",
    "        data[self.columns] = scaled_data\n",
    "        return data\n",
    "\n",
    "\n",
    "class OneHotPreprocessor(BaseDataPreprocessor):\n",
    "    def __init__(self, intrest, **kwargs):\n",
    "        super(OneHotPreprocessor, self).__init__(**kwargs)\n",
    "        self.interesting_columns = intrest\n",
    "\n",
    "    def fit(self, data, data_y):\n",
    "        self.enc = OneHotEncoder(drop='first',sparse_output=False, handle_unknown=\"ignore\")\n",
    "        self.enc = self.enc.fit(data[self.interesting_columns])\n",
    "        return self\n",
    "\n",
    "    def transform(self, data):\n",
    "        return np.hstack([data.drop(self.interesting_columns, axis=1), self.enc.transform(data[self.interesting_columns])])\n",
    "    \n",
    "    def cats(self):\n",
    "        return self.enc.categories_\n",
    "    \n",
    "\n",
    "from sklearn.base import RegressorMixin\n",
    "import numpy as np\n",
    "class SGDLinearRegressor(RegressorMixin):\n",
    "    def __init__(\n",
    "        self,\n",
    "        lr=0.01,\n",
    "        regularization=1.,\n",
    "        delta_converged=1e-2,\n",
    "        max_steps=1000,\n",
    "        batch_size=64,\n",
    "    ):\n",
    "        self.lr = lr\n",
    "        self.regularization = regularization\n",
    "        self.max_steps = max_steps\n",
    "        self.delta_converged = delta_converged\n",
    "        self.batch_size = batch_size\n",
    "\n",
    "        self.w = None\n",
    "        self.b = None\n",
    "\n",
    "    def fit(self, X, Y):\n",
    "        self.w = np.random.random(X.shape[1])\n",
    "        self.b = 1\n",
    "        for i in range(self.max_steps):\n",
    "            inds = np.random.choice(np.arange(X.shape[0]), size=self.batch_size, replace=False)\n",
    "            X_batch = X[inds]\n",
    "            Y_batch = Y[inds]\n",
    "            y_pred = X_batch @ self.w + self.b\n",
    "            err = y_pred - Y_batch\n",
    "            grad_w = X_batch.T @ err / self.batch_size\n",
    "            grad_bias = np.mean(err)\n",
    "            self.w = self.w - self.lr * (grad_w + self.regularization * self.w)\n",
    "            self.b = self.b - self.lr * grad_bias\n",
    "        return self\n",
    "        \n",
    "    def predict(self, X):\n",
    "        return X @ self.w + self.b\n"
   ]
  },
  {
   "cell_type": "code",
   "execution_count": 372,
   "metadata": {
    "pycharm": {
     "name": "#%%\n"
    }
   },
   "outputs": [],
   "source": [
    "def make_ultimate_pipeline():\n",
    "    continuous_columns = ['Lot_Frontage',\n",
    " 'Lot_Area',\n",
    " 'Year_Built',\n",
    " 'Year_Remod_Add',\n",
    " 'Mas_Vnr_Area',\n",
    " 'BsmtFin_SF_1',\n",
    " 'BsmtFin_SF_2',\n",
    " 'Bsmt_Unf_SF',\n",
    " 'Total_Bsmt_SF',\n",
    " 'First_Flr_SF',\n",
    " 'Second_Flr_SF',\n",
    " 'Low_Qual_Fin_SF',\n",
    " 'Gr_Liv_Area',\n",
    " 'Bsmt_Full_Bath',\n",
    " 'Bsmt_Half_Bath',\n",
    " 'Full_Bath',\n",
    " 'Half_Bath',\n",
    " 'Bedroom_AbvGr',\n",
    " 'Kitchen_AbvGr',\n",
    " 'TotRms_AbvGrd',\n",
    " 'Fireplaces',\n",
    " 'Garage_Cars',\n",
    " 'Garage_Area',\n",
    " 'Wood_Deck_SF',\n",
    " 'Open_Porch_SF',\n",
    " 'Enclosed_Porch',\n",
    " 'Three_season_porch',\n",
    " 'Screen_Porch',\n",
    " 'Pool_Area',\n",
    " 'Misc_Val',\n",
    " 'Mo_Sold',\n",
    " 'Year_Sold',\n",
    " 'Longitude',\n",
    " 'Latitude']\n",
    "    categorical_columns = ['MS_SubClass',\n",
    " 'MS_Zoning',\n",
    " 'Street',\n",
    " 'Alley',\n",
    " 'Lot_Shape',\n",
    " 'Land_Contour',\n",
    " 'Utilities',\n",
    " 'Lot_Config',\n",
    " 'Land_Slope',\n",
    " 'Neighborhood',\n",
    " 'Condition_1',\n",
    " 'Condition_2',\n",
    " 'Bldg_Type',\n",
    " 'House_Style',\n",
    " 'Overall_Qual',\n",
    " 'Overall_Cond',\n",
    " 'Roof_Style',\n",
    " 'Roof_Matl',\n",
    " 'Exterior_1st',\n",
    " 'Exterior_2nd',\n",
    " 'Mas_Vnr_Type',\n",
    " 'Exter_Qual',\n",
    " 'Exter_Cond',\n",
    " 'Foundation',\n",
    " 'Bsmt_Qual',\n",
    " 'Bsmt_Cond',\n",
    " 'Bsmt_Exposure',\n",
    " 'BsmtFin_Type_1',\n",
    " 'BsmtFin_Type_2',\n",
    " 'Heating',\n",
    " 'Heating_QC',\n",
    " 'Central_Air',\n",
    " 'Electrical',\n",
    " 'Kitchen_Qual',\n",
    " 'Functional',\n",
    " 'Fireplace_Qu',\n",
    " 'Garage_Type',\n",
    " 'Garage_Finish',\n",
    " 'Garage_Qual',\n",
    " 'Garage_Cond',\n",
    " 'Paved_Drive',\n",
    " 'Pool_QC',\n",
    " 'Fence',\n",
    " 'Misc_Feature',\n",
    " 'Sale_Type',\n",
    " 'Sale_Condition']\n",
    "    pipe = Pipeline(steps=[('BasePreproc', BaseDataPreprocessor(needed_columns=continuous_columns)),\n",
    "                           ('OneHot', OneHotPreprocessor(intrest=categorical_columns)),\n",
    "                           ('Ridge', SGDLinearRegressor())])\n",
    "    return pipe\n",
    "    "
   ]
  },
  {
   "cell_type": "code",
   "execution_count": 373,
   "metadata": {},
   "outputs": [
    {
     "data": {
      "text/html": [
       "<style>#sk-container-id-15 {color: black;}#sk-container-id-15 pre{padding: 0;}#sk-container-id-15 div.sk-toggleable {background-color: white;}#sk-container-id-15 label.sk-toggleable__label {cursor: pointer;display: block;width: 100%;margin-bottom: 0;padding: 0.3em;box-sizing: border-box;text-align: center;}#sk-container-id-15 label.sk-toggleable__label-arrow:before {content: \"▸\";float: left;margin-right: 0.25em;color: #696969;}#sk-container-id-15 label.sk-toggleable__label-arrow:hover:before {color: black;}#sk-container-id-15 div.sk-estimator:hover label.sk-toggleable__label-arrow:before {color: black;}#sk-container-id-15 div.sk-toggleable__content {max-height: 0;max-width: 0;overflow: hidden;text-align: left;background-color: #f0f8ff;}#sk-container-id-15 div.sk-toggleable__content pre {margin: 0.2em;color: black;border-radius: 0.25em;background-color: #f0f8ff;}#sk-container-id-15 input.sk-toggleable__control:checked~div.sk-toggleable__content {max-height: 200px;max-width: 100%;overflow: auto;}#sk-container-id-15 input.sk-toggleable__control:checked~label.sk-toggleable__label-arrow:before {content: \"▾\";}#sk-container-id-15 div.sk-estimator input.sk-toggleable__control:checked~label.sk-toggleable__label {background-color: #d4ebff;}#sk-container-id-15 div.sk-label input.sk-toggleable__control:checked~label.sk-toggleable__label {background-color: #d4ebff;}#sk-container-id-15 input.sk-hidden--visually {border: 0;clip: rect(1px 1px 1px 1px);clip: rect(1px, 1px, 1px, 1px);height: 1px;margin: -1px;overflow: hidden;padding: 0;position: absolute;width: 1px;}#sk-container-id-15 div.sk-estimator {font-family: monospace;background-color: #f0f8ff;border: 1px dotted black;border-radius: 0.25em;box-sizing: border-box;margin-bottom: 0.5em;}#sk-container-id-15 div.sk-estimator:hover {background-color: #d4ebff;}#sk-container-id-15 div.sk-parallel-item::after {content: \"\";width: 100%;border-bottom: 1px solid gray;flex-grow: 1;}#sk-container-id-15 div.sk-label:hover label.sk-toggleable__label {background-color: #d4ebff;}#sk-container-id-15 div.sk-serial::before {content: \"\";position: absolute;border-left: 1px solid gray;box-sizing: border-box;top: 0;bottom: 0;left: 50%;z-index: 0;}#sk-container-id-15 div.sk-serial {display: flex;flex-direction: column;align-items: center;background-color: white;padding-right: 0.2em;padding-left: 0.2em;position: relative;}#sk-container-id-15 div.sk-item {position: relative;z-index: 1;}#sk-container-id-15 div.sk-parallel {display: flex;align-items: stretch;justify-content: center;background-color: white;position: relative;}#sk-container-id-15 div.sk-item::before, #sk-container-id-15 div.sk-parallel-item::before {content: \"\";position: absolute;border-left: 1px solid gray;box-sizing: border-box;top: 0;bottom: 0;left: 50%;z-index: -1;}#sk-container-id-15 div.sk-parallel-item {display: flex;flex-direction: column;z-index: 1;position: relative;background-color: white;}#sk-container-id-15 div.sk-parallel-item:first-child::after {align-self: flex-end;width: 50%;}#sk-container-id-15 div.sk-parallel-item:last-child::after {align-self: flex-start;width: 50%;}#sk-container-id-15 div.sk-parallel-item:only-child::after {width: 0;}#sk-container-id-15 div.sk-dashed-wrapped {border: 1px dashed gray;margin: 0 0.4em 0.5em 0.4em;box-sizing: border-box;padding-bottom: 0.4em;background-color: white;}#sk-container-id-15 div.sk-label label {font-family: monospace;font-weight: bold;display: inline-block;line-height: 1.2em;}#sk-container-id-15 div.sk-label-container {text-align: center;}#sk-container-id-15 div.sk-container {/* jupyter's `normalize.less` sets `[hidden] { display: none; }` but bootstrap.min.css set `[hidden] { display: none !important; }` so we also need the `!important` here to be able to override the default hidden behavior on the sphinx rendered scikit-learn.org. See: https://github.com/scikit-learn/scikit-learn/issues/21755 */display: inline-block !important;position: relative;}#sk-container-id-15 div.sk-text-repr-fallback {display: none;}</style><div id=\"sk-container-id-15\" class=\"sk-top-container\"><div class=\"sk-text-repr-fallback\"><pre>Pipeline(steps=[(&#x27;BasePreproc&#x27;,\n",
       "                 &lt;__main__.BaseDataPreprocessor object at 0x0000021FD9DF6ED0&gt;),\n",
       "                (&#x27;OneHot&#x27;,\n",
       "                 &lt;__main__.OneHotPreprocessor object at 0x0000021FD9DF7E50&gt;),\n",
       "                (&#x27;Ridge&#x27;,\n",
       "                 &lt;__main__.SGDLinearRegressor object at 0x0000021FD9DF4490&gt;)])</pre><b>In a Jupyter environment, please rerun this cell to show the HTML representation or trust the notebook. <br />On GitHub, the HTML representation is unable to render, please try loading this page with nbviewer.org.</b></div><div class=\"sk-container\" hidden><div class=\"sk-item sk-dashed-wrapped\"><div class=\"sk-label-container\"><div class=\"sk-label sk-toggleable\"><input class=\"sk-toggleable__control sk-hidden--visually\" id=\"sk-estimator-id-48\" type=\"checkbox\" ><label for=\"sk-estimator-id-48\" class=\"sk-toggleable__label sk-toggleable__label-arrow\">Pipeline</label><div class=\"sk-toggleable__content\"><pre>Pipeline(steps=[(&#x27;BasePreproc&#x27;,\n",
       "                 &lt;__main__.BaseDataPreprocessor object at 0x0000021FD9DF6ED0&gt;),\n",
       "                (&#x27;OneHot&#x27;,\n",
       "                 &lt;__main__.OneHotPreprocessor object at 0x0000021FD9DF7E50&gt;),\n",
       "                (&#x27;Ridge&#x27;,\n",
       "                 &lt;__main__.SGDLinearRegressor object at 0x0000021FD9DF4490&gt;)])</pre></div></div></div><div class=\"sk-serial\"><div class=\"sk-item\"><div class=\"sk-estimator sk-toggleable\"><input class=\"sk-toggleable__control sk-hidden--visually\" id=\"sk-estimator-id-49\" type=\"checkbox\" ><label for=\"sk-estimator-id-49\" class=\"sk-toggleable__label sk-toggleable__label-arrow\">BaseDataPreprocessor</label><div class=\"sk-toggleable__content\"><pre>&lt;__main__.BaseDataPreprocessor object at 0x0000021FD9DF6ED0&gt;</pre></div></div></div><div class=\"sk-item\"><div class=\"sk-estimator sk-toggleable\"><input class=\"sk-toggleable__control sk-hidden--visually\" id=\"sk-estimator-id-50\" type=\"checkbox\" ><label for=\"sk-estimator-id-50\" class=\"sk-toggleable__label sk-toggleable__label-arrow\">OneHotPreprocessor</label><div class=\"sk-toggleable__content\"><pre>&lt;__main__.OneHotPreprocessor object at 0x0000021FD9DF7E50&gt;</pre></div></div></div><div class=\"sk-item\"><div class=\"sk-estimator sk-toggleable\"><input class=\"sk-toggleable__control sk-hidden--visually\" id=\"sk-estimator-id-51\" type=\"checkbox\" ><label for=\"sk-estimator-id-51\" class=\"sk-toggleable__label sk-toggleable__label-arrow\">SGDLinearRegressor</label><div class=\"sk-toggleable__content\"><pre>&lt;__main__.SGDLinearRegressor object at 0x0000021FD9DF4490&gt;</pre></div></div></div></div></div></div></div>"
      ],
      "text/plain": [
       "Pipeline(steps=[('BasePreproc',\n",
       "                 <__main__.BaseDataPreprocessor object at 0x0000021FD9DF6ED0>),\n",
       "                ('OneHot',\n",
       "                 <__main__.OneHotPreprocessor object at 0x0000021FD9DF7E50>),\n",
       "                ('Ridge',\n",
       "                 <__main__.SGDLinearRegressor object at 0x0000021FD9DF4490>)])"
      ]
     },
     "execution_count": 373,
     "metadata": {},
     "output_type": "execute_result"
    }
   ],
   "source": [
    "pipe = make_ultimate_pipeline()\n",
    "pipe.fit(data_train, Y_train)"
   ]
  },
  {
   "cell_type": "code",
   "execution_count": 374,
   "metadata": {},
   "outputs": [
    {
     "name": "stderr",
     "output_type": "stream",
     "text": [
      "C:\\ProgramData\\anaconda3\\Lib\\site-packages\\sklearn\\preprocessing\\_encoders.py:227: UserWarning: Found unknown categories in columns [17, 18, 19, 43] during transform. These unknown categories will be encoded as all zeros\n",
      "  warnings.warn(\n"
     ]
    },
    {
     "data": {
      "text/plain": [
       "array([9.47264511e+07, 1.03798968e+08, 8.57455037e+07, 6.49477618e+07,\n",
       "       5.38198585e+07, 5.78352057e+07, 1.12050331e+08, 4.99791542e+07,\n",
       "       8.23234769e+07, 9.08060160e+07, 7.01773264e+07, 7.80024517e+07,\n",
       "       1.02184457e+08, 8.19984527e+07, 7.39336456e+07, 9.22427368e+07,\n",
       "       7.44210728e+07, 9.49051692e+07, 8.74361061e+07, 8.92109856e+07,\n",
       "       8.30541236e+07, 9.16510361e+07, 9.84581037e+07, 1.32373932e+08,\n",
       "       7.11766942e+07, 1.00296015e+08, 8.15045835e+07, 7.68585717e+07,\n",
       "       5.68956118e+07, 9.23755868e+07, 6.09501919e+07, 8.26226272e+07,\n",
       "       7.30018683e+07, 6.83269373e+07, 1.08095117e+08, 7.70550048e+07,\n",
       "       8.40096928e+07, 8.06421371e+07, 8.26878761e+07, 8.83664736e+07,\n",
       "       7.26396693e+07, 8.34549445e+07, 7.93580052e+07, 1.02771047e+08,\n",
       "       8.33229458e+07, 8.60681675e+07, 9.38921845e+07, 7.63365807e+07,\n",
       "       7.62710239e+07, 1.36813209e+08, 1.08691301e+08, 6.98298646e+07,\n",
       "       7.84866874e+07, 9.76473504e+07, 9.89345574e+07, 1.15384137e+08,\n",
       "       6.46226581e+07, 6.33546399e+07, 9.81432926e+07, 8.38483750e+07,\n",
       "       1.11341042e+08, 8.89751172e+07, 9.78082497e+07, 8.25672475e+07,\n",
       "       7.09555595e+07, 6.77435655e+07, 7.62698241e+07, 1.00804921e+08,\n",
       "       8.80728289e+07, 7.47150067e+07, 5.86947534e+07, 7.79478317e+07,\n",
       "       1.10254748e+08, 7.98156061e+07, 6.42933268e+07, 8.07173855e+07,\n",
       "       6.30627500e+07, 7.72256728e+07, 5.57773315e+07, 9.07088370e+07,\n",
       "       1.03046711e+08, 4.61679427e+07, 1.08141061e+08, 7.00654596e+07,\n",
       "       1.01014357e+08, 1.03174342e+08, 6.76835135e+07, 7.92066118e+07,\n",
       "       1.20862502e+08, 8.70836690e+07, 1.02462544e+08, 9.31906016e+07,\n",
       "       7.30479149e+07, 8.12250626e+07, 5.69699867e+07, 1.17732146e+08,\n",
       "       9.61363829e+07, 1.11471997e+08, 1.29080298e+08, 8.19928379e+07,\n",
       "       8.43444032e+07, 7.89161124e+07, 1.06307358e+08, 1.17219745e+08,\n",
       "       7.64749888e+07, 6.56509432e+07, 8.78794447e+07, 6.60459538e+07,\n",
       "       1.03238586e+08, 1.01876070e+08, 8.16213070e+07, 7.08756098e+07,\n",
       "       7.55748548e+07, 9.54650686e+07, 7.73608125e+07, 6.38569571e+07,\n",
       "       7.64734801e+07, 8.45618909e+07, 1.11587398e+08, 7.58758877e+07,\n",
       "       1.04261369e+08, 6.72377247e+07, 7.79538878e+07, 8.46506027e+07,\n",
       "       1.09601016e+08, 4.25311831e+07, 7.02529048e+07, 6.24849051e+07,\n",
       "       7.11510104e+07, 7.73379575e+07, 7.94560160e+07, 6.91586427e+07,\n",
       "       2.13158600e+08, 7.26288863e+07, 8.29544891e+07, 7.33855699e+07,\n",
       "       6.82002994e+07, 1.00198592e+08, 8.19268150e+07, 7.98139921e+07,\n",
       "       1.14938216e+08, 1.18040640e+08, 6.39829062e+07, 7.05636961e+07,\n",
       "       5.41226366e+07, 1.05563752e+08, 7.26158346e+07, 6.78433145e+07,\n",
       "       5.38195942e+07, 1.42285394e+08, 9.56518052e+07, 9.39554656e+07,\n",
       "       9.44763973e+07, 8.52134365e+07, 8.30980998e+07, 2.37045541e+08,\n",
       "       8.57002363e+07, 7.55208921e+07, 6.84998287e+07, 1.31681381e+08,\n",
       "       9.51800857e+07, 8.35372832e+07, 6.01993195e+07, 1.23782417e+08,\n",
       "       7.43975840e+07, 7.36961141e+07, 2.94002054e+08, 1.26689408e+08,\n",
       "       8.24266711e+07, 6.41625752e+07, 7.79100579e+07, 5.82197983e+07,\n",
       "       6.73730906e+07, 7.77082124e+07, 8.07967428e+07, 6.36513155e+07,\n",
       "       1.02716552e+08, 1.22548628e+08, 8.83113592e+07, 7.81301479e+07,\n",
       "       6.75160929e+07, 7.93322947e+07, 8.60866114e+07, 9.99308485e+07,\n",
       "       6.69528422e+07, 9.49065900e+07, 7.67908529e+07, 8.28926352e+07,\n",
       "       7.98224661e+07, 9.90454179e+07, 9.02691090e+07, 5.85512529e+07,\n",
       "       8.46130071e+07, 1.04082294e+08, 9.94611696e+07, 8.37021067e+07,\n",
       "       6.85131015e+07, 9.05361967e+07, 1.05839623e+08, 1.04521421e+08,\n",
       "       7.17745266e+07, 8.05517382e+07, 7.19899887e+07, 2.04646784e+08,\n",
       "       8.07974655e+07, 6.81471596e+07, 1.08741848e+08, 3.91854941e+07,\n",
       "       7.28191986e+07, 7.19182430e+07, 7.51474288e+07, 8.80262712e+07,\n",
       "       6.32840095e+07, 8.69542041e+07, 6.18250229e+07, 1.00637114e+08,\n",
       "       9.25535506e+07, 8.62924548e+07, 7.62251087e+07, 1.01592470e+08,\n",
       "       5.86463471e+07, 7.86350989e+07, 9.77714278e+07, 7.02183422e+07,\n",
       "       6.64224224e+07, 7.51996175e+07, 8.48034327e+07, 8.53213207e+07,\n",
       "       9.69093729e+07, 8.92911319e+07, 6.68455700e+07, 8.21341782e+07,\n",
       "       8.73983268e+07, 5.71789028e+07, 8.75239233e+07, 9.26715524e+07,\n",
       "       7.79975472e+07, 1.03536458e+08, 1.12299061e+08, 7.83111923e+07,\n",
       "       1.07270142e+08, 8.40512323e+07, 7.56084975e+07, 6.70407165e+07,\n",
       "       9.13494383e+07, 8.46640890e+07, 6.92702197e+07, 9.09512266e+07,\n",
       "       5.75118317e+07, 1.12100196e+08, 9.93713900e+07, 1.17117823e+08,\n",
       "       1.03980520e+08, 1.20875058e+08, 4.47506006e+07, 9.69943628e+07,\n",
       "       7.58919572e+07, 5.87821186e+07, 7.39477625e+07, 9.53280660e+07,\n",
       "       7.75837034e+07, 1.02572783e+08, 6.18344197e+07, 7.75513110e+07,\n",
       "       8.41146940e+07, 4.39969819e+07, 8.19494027e+07, 9.09198445e+07,\n",
       "       6.23895582e+07, 1.35756449e+08, 5.82139963e+07, 1.20303920e+08,\n",
       "       5.21718002e+07, 7.66793794e+07, 8.19191488e+07, 4.35199583e+07,\n",
       "       7.39671201e+07, 7.40105543e+07, 7.72939990e+07, 7.28111643e+07,\n",
       "       1.21070960e+08, 9.50945008e+07, 6.49504941e+07, 1.03819365e+08,\n",
       "       1.27546977e+08, 1.14380499e+08, 8.86505233e+07, 7.05565254e+07,\n",
       "       6.96856884e+07, 1.47693468e+08, 1.03716488e+08, 1.12829467e+08,\n",
       "       1.33503169e+08, 7.58491813e+07, 1.39794102e+08, 9.13343138e+07,\n",
       "       7.43540266e+07, 1.01722613e+08, 1.18508591e+08, 7.61110152e+07,\n",
       "       8.53205277e+07, 6.41631762e+07, 7.84054798e+07, 8.34942932e+07,\n",
       "       1.00358127e+08, 1.16192771e+08, 8.64807894e+07, 8.36049113e+07,\n",
       "       7.86659743e+07, 1.01259773e+08, 1.25015623e+08, 1.01806322e+08,\n",
       "       1.05737490e+08, 9.35204594e+07, 5.95927083e+07, 8.11684342e+07,\n",
       "       8.70981503e+07, 9.37591945e+07, 1.03062340e+08, 8.45526474e+07,\n",
       "       2.37330238e+08, 8.55212266e+07, 4.77619420e+07, 6.11284510e+07,\n",
       "       8.17513868e+07, 6.35826920e+07, 9.19273944e+07, 7.41793717e+07,\n",
       "       7.04724417e+07, 9.01570794e+07, 5.35586154e+07, 1.10956854e+08,\n",
       "       9.57851470e+07, 9.34186713e+07, 6.89225248e+07, 6.57727694e+07,\n",
       "       7.37283067e+07, 5.13939909e+07, 6.71647925e+07, 8.19815783e+07,\n",
       "       1.22211350e+08, 1.05542890e+08, 7.52269847e+07, 1.09040517e+08,\n",
       "       1.47515683e+08, 7.50745319e+07, 1.03356420e+08, 7.06983999e+07,\n",
       "       8.94769090e+07, 8.50988232e+07, 9.52137609e+07, 7.72684277e+07,\n",
       "       4.68522980e+07, 9.91126337e+07, 8.96550561e+07, 9.77767337e+07,\n",
       "       7.52480792e+07, 8.85331509e+07, 1.08011513e+08, 8.89628901e+07,\n",
       "       6.41449539e+07, 9.74582333e+07, 5.44590013e+07, 6.67170425e+07,\n",
       "       1.35074464e+08, 1.33919022e+08, 6.05413201e+07, 1.08379778e+08,\n",
       "       7.93934698e+07, 6.22863443e+07, 7.87084715e+07, 7.42104485e+07,\n",
       "       9.59644847e+07, 8.47824504e+07, 8.38800699e+07, 5.75256612e+07,\n",
       "       3.87114902e+08, 1.12263741e+08, 1.09393381e+08, 7.01624716e+07,\n",
       "       8.04501636e+07, 1.23588441e+08, 4.02931414e+07, 8.26351135e+07,\n",
       "       3.88859120e+07, 8.27756824e+07, 7.95518249e+07, 9.30205650e+07,\n",
       "       1.05786687e+08, 8.69281009e+07, 8.91883292e+07, 6.85793119e+07,\n",
       "       7.36084344e+07, 7.72565797e+07, 7.61971608e+07, 8.53930783e+07,\n",
       "       7.55519979e+07, 9.08528332e+07, 6.04582132e+07, 7.41862601e+07,\n",
       "       8.51315530e+07, 1.25953208e+08, 8.19012811e+07, 1.04876588e+08,\n",
       "       8.95250585e+07, 8.78744732e+07, 9.11285188e+07, 8.77795961e+07,\n",
       "       1.07121447e+08, 8.31850903e+07, 8.24891182e+07, 6.87615669e+07,\n",
       "       7.96045705e+07, 6.54152974e+07, 8.67790144e+07, 1.57845838e+08,\n",
       "       8.80903926e+07, 7.98952609e+07, 8.69369342e+07, 1.05315587e+08,\n",
       "       7.82601326e+07, 8.75359980e+07, 1.04078835e+08, 1.11191776e+08,\n",
       "       7.27499745e+07, 6.56568549e+07, 1.42504934e+08, 1.80891206e+08,\n",
       "       1.36803565e+08, 5.95569478e+07, 9.77900588e+07, 8.55692981e+07,\n",
       "       1.14354352e+08, 1.03130413e+08, 6.73335237e+07, 1.07033457e+08,\n",
       "       6.00629484e+07, 6.12889137e+07, 6.79791503e+07, 1.04192093e+08,\n",
       "       8.10511274e+07, 8.04593814e+07, 8.51276174e+07, 9.86468725e+07,\n",
       "       9.51025991e+07, 9.36693905e+07, 9.24330812e+07, 7.13755546e+07,\n",
       "       8.28858341e+07, 8.47849513e+07, 1.04100856e+08, 9.41684544e+07,\n",
       "       1.15767216e+08, 8.48713115e+07, 8.31907661e+07, 7.10840855e+07,\n",
       "       6.09790072e+07, 7.83546306e+07, 7.35734108e+07, 1.20890469e+08,\n",
       "       1.00421935e+08, 8.40558661e+07, 8.76355366e+07, 1.42723592e+08,\n",
       "       6.52460126e+07, 8.65839214e+07, 5.88371803e+07, 8.88847942e+07,\n",
       "       8.08928936e+07, 7.03843928e+07, 8.79032177e+07, 1.06854700e+08,\n",
       "       7.80403610e+07, 9.01866015e+07, 1.10058508e+08, 8.26476781e+07,\n",
       "       8.25972847e+07, 5.81927288e+07, 9.96658827e+07, 1.29121714e+08,\n",
       "       8.02534483e+07, 5.70710089e+07, 6.81952715e+07, 1.01925435e+08,\n",
       "       1.02999252e+08, 7.67079804e+07, 9.22511149e+07, 2.37695519e+08,\n",
       "       8.75265185e+07, 9.76380326e+07, 7.62128924e+07, 7.05249538e+07,\n",
       "       7.01059567e+07, 1.14358293e+08, 8.41156780e+07, 1.28924953e+08,\n",
       "       1.08317879e+08, 7.37171971e+07, 8.12878977e+07, 8.83820598e+07,\n",
       "       1.06673970e+08, 1.13753087e+08, 8.51859865e+07, 1.05193043e+08,\n",
       "       7.97056636e+07, 7.39274878e+07, 1.39199854e+08, 5.05018899e+07,\n",
       "       9.83891916e+07, 9.50290241e+07, 9.13343692e+07, 9.80907462e+07,\n",
       "       1.18443333e+08, 7.09746283e+07, 8.13071533e+07, 6.79916908e+07,\n",
       "       8.69407184e+07, 7.42152801e+07, 6.66544804e+07, 8.53777998e+07,\n",
       "       8.09701460e+07, 8.68393502e+07, 7.50323587e+07, 1.15364258e+08,\n",
       "       7.14997452e+07, 7.70468867e+07, 8.76833173e+07, 8.05574821e+07,\n",
       "       1.00433908e+08, 1.88650474e+08, 5.83450209e+07, 6.79463229e+07,\n",
       "       9.03892172e+07, 8.87705423e+07, 7.38104515e+07, 1.11901194e+08,\n",
       "       6.65984581e+07, 6.57681114e+07, 8.95441151e+07, 9.03077280e+07,\n",
       "       5.30966176e+07, 9.15879237e+07, 5.94621129e+07, 8.80533461e+07,\n",
       "       7.30633952e+07, 6.84461914e+07, 1.16534849e+08, 4.92760571e+07,\n",
       "       9.68465005e+07, 7.31784227e+07, 9.99599071e+07, 6.05835279e+07,\n",
       "       9.30929892e+07, 1.06401526e+08, 7.87850887e+07, 8.23045478e+07,\n",
       "       9.48464033e+07, 9.53652426e+07, 1.00049255e+08, 8.57552029e+07,\n",
       "       8.55541297e+07, 7.84648743e+07, 1.02350972e+08, 7.22288681e+07,\n",
       "       1.07333268e+08, 1.04068411e+08, 8.15596343e+07, 7.58746039e+07,\n",
       "       8.74970590e+07, 4.45981765e+07, 8.54887888e+07, 8.45836825e+07,\n",
       "       4.76781164e+07, 9.52771493e+07, 6.24286230e+07, 9.65019905e+07,\n",
       "       8.96858944e+07, 1.02179400e+08, 6.83320673e+07, 1.14184114e+08,\n",
       "       8.76353264e+07, 8.51233522e+07, 5.57196053e+07, 9.77466526e+07,\n",
       "       7.87356666e+07, 7.54052341e+07])"
      ]
     },
     "execution_count": 374,
     "metadata": {},
     "output_type": "execute_result"
    }
   ],
   "source": [
    "pipe.predict(data_test)"
   ]
  }
 ],
 "metadata": {
  "kernelspec": {
   "display_name": "Python 3 (ipykernel)",
   "language": "python",
   "name": "python3"
  },
  "language_info": {
   "codemirror_mode": {
    "name": "ipython",
    "version": 3
   },
   "file_extension": ".py",
   "mimetype": "text/x-python",
   "name": "python",
   "nbconvert_exporter": "python",
   "pygments_lexer": "ipython3",
   "version": "3.11.5"
  }
 },
 "nbformat": 4,
 "nbformat_minor": 4
}
